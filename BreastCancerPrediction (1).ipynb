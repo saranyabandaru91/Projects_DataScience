{
  "cells": [
    {
      "cell_type": "markdown",
      "metadata": {
        "id": "view-in-github",
        "colab_type": "text"
      },
      "source": [
        "<a href=\"https://colab.research.google.com/github/saranyabandaru91/Projects_DataScience/blob/main/BreastCancerPrediction%20(1).ipynb\" target=\"_parent\"><img src=\"https://colab.research.google.com/assets/colab-badge.svg\" alt=\"Open In Colab\"/></a>"
      ]
    },
    {
      "cell_type": "markdown",
      "source": [
        "## Comparative Study of various Machine Learning algorithms for Breast Cancer prediction"
      ],
      "metadata": {
        "id": "robJzl-Kgcvn"
      },
      "id": "robJzl-Kgcvn"
    },
    {
      "cell_type": "code",
      "execution_count": null,
      "id": "d855a9a3",
      "metadata": {
        "id": "d855a9a3"
      },
      "outputs": [],
      "source": [
        "#Import the neccessary Libraries\n",
        "import pandas as pd\n",
        "import numpy as np\n",
        "import matplotlib.pyplot as plt\n",
        "import seaborn as sns"
      ]
    },
    {
      "cell_type": "code",
      "execution_count": null,
      "id": "fc4b0ca4",
      "metadata": {
        "id": "fc4b0ca4"
      },
      "outputs": [],
      "source": [
        "#Reading the data\n",
        "data = pd.read_csv(\"data_updated.csv\")"
      ]
    },
    {
      "cell_type": "code",
      "execution_count": null,
      "id": "8de21174",
      "metadata": {
        "id": "8de21174",
        "outputId": "6341efb7-0800-40e5-cf18-b3afa79571f2"
      },
      "outputs": [
        {
          "data": {
            "text/html": [
              "<div>\n",
              "<style scoped>\n",
              "    .dataframe tbody tr th:only-of-type {\n",
              "        vertical-align: middle;\n",
              "    }\n",
              "\n",
              "    .dataframe tbody tr th {\n",
              "        vertical-align: top;\n",
              "    }\n",
              "\n",
              "    .dataframe thead th {\n",
              "        text-align: right;\n",
              "    }\n",
              "</style>\n",
              "<table border=\"1\" class=\"dataframe\">\n",
              "  <thead>\n",
              "    <tr style=\"text-align: right;\">\n",
              "      <th></th>\n",
              "      <th>id</th>\n",
              "      <th>diagnosis</th>\n",
              "      <th>radius_mean</th>\n",
              "      <th>texture_mean</th>\n",
              "      <th>perimeter_mean</th>\n",
              "      <th>area_mean</th>\n",
              "      <th>smoothness_mean</th>\n",
              "      <th>compactness_mean</th>\n",
              "      <th>concavity_mean</th>\n",
              "      <th>concave points_mean</th>\n",
              "      <th>...</th>\n",
              "      <th>radius_worst</th>\n",
              "      <th>texture_worst</th>\n",
              "      <th>perimeter_worst</th>\n",
              "      <th>area_worst</th>\n",
              "      <th>smoothness_worst</th>\n",
              "      <th>compactness_worst</th>\n",
              "      <th>concavity_worst</th>\n",
              "      <th>concave points_worst</th>\n",
              "      <th>symmetry_worst</th>\n",
              "      <th>fractal_dimension_worst</th>\n",
              "    </tr>\n",
              "  </thead>\n",
              "  <tbody>\n",
              "    <tr>\n",
              "      <th>0</th>\n",
              "      <td>842302</td>\n",
              "      <td>M</td>\n",
              "      <td>17.99</td>\n",
              "      <td>NaN</td>\n",
              "      <td>122.80</td>\n",
              "      <td>1001.0</td>\n",
              "      <td>0.1184</td>\n",
              "      <td>0.2776</td>\n",
              "      <td>NaN</td>\n",
              "      <td>0.14710</td>\n",
              "      <td>...</td>\n",
              "      <td>NaN</td>\n",
              "      <td>17.33</td>\n",
              "      <td>184.60</td>\n",
              "      <td>2019.0</td>\n",
              "      <td>0.1622</td>\n",
              "      <td>0.6656</td>\n",
              "      <td>0.7119</td>\n",
              "      <td>0.2654</td>\n",
              "      <td>NaN</td>\n",
              "      <td>0.11890</td>\n",
              "    </tr>\n",
              "    <tr>\n",
              "      <th>1</th>\n",
              "      <td>842517</td>\n",
              "      <td>M</td>\n",
              "      <td>20.57</td>\n",
              "      <td>17.77</td>\n",
              "      <td>NaN</td>\n",
              "      <td>1326.0</td>\n",
              "      <td>NaN</td>\n",
              "      <td>0.1002</td>\n",
              "      <td>0.0869</td>\n",
              "      <td>0.07017</td>\n",
              "      <td>...</td>\n",
              "      <td>24.99</td>\n",
              "      <td>23.41</td>\n",
              "      <td>158.80</td>\n",
              "      <td>1956.0</td>\n",
              "      <td>0.1238</td>\n",
              "      <td>0.1866</td>\n",
              "      <td>0.2416</td>\n",
              "      <td>0.1860</td>\n",
              "      <td>0.2750</td>\n",
              "      <td>NaN</td>\n",
              "    </tr>\n",
              "    <tr>\n",
              "      <th>2</th>\n",
              "      <td>84300903</td>\n",
              "      <td>M</td>\n",
              "      <td>19.69</td>\n",
              "      <td>21.25</td>\n",
              "      <td>130.00</td>\n",
              "      <td>1203.0</td>\n",
              "      <td>0.1096</td>\n",
              "      <td>0.1599</td>\n",
              "      <td>0.1974</td>\n",
              "      <td>0.12790</td>\n",
              "      <td>...</td>\n",
              "      <td>23.57</td>\n",
              "      <td>25.53</td>\n",
              "      <td>152.50</td>\n",
              "      <td>NaN</td>\n",
              "      <td>0.1444</td>\n",
              "      <td>0.4245</td>\n",
              "      <td>NaN</td>\n",
              "      <td>NaN</td>\n",
              "      <td>0.3613</td>\n",
              "      <td>0.08758</td>\n",
              "    </tr>\n",
              "    <tr>\n",
              "      <th>3</th>\n",
              "      <td>84348301</td>\n",
              "      <td>M</td>\n",
              "      <td>NaN</td>\n",
              "      <td>20.38</td>\n",
              "      <td>77.58</td>\n",
              "      <td>386.1</td>\n",
              "      <td>0.1425</td>\n",
              "      <td>0.2839</td>\n",
              "      <td>0.2414</td>\n",
              "      <td>NaN</td>\n",
              "      <td>...</td>\n",
              "      <td>14.91</td>\n",
              "      <td>NaN</td>\n",
              "      <td>98.87</td>\n",
              "      <td>567.7</td>\n",
              "      <td>0.2098</td>\n",
              "      <td>NaN</td>\n",
              "      <td>0.6869</td>\n",
              "      <td>0.2575</td>\n",
              "      <td>0.6638</td>\n",
              "      <td>0.17300</td>\n",
              "    </tr>\n",
              "    <tr>\n",
              "      <th>4</th>\n",
              "      <td>84358402</td>\n",
              "      <td>M</td>\n",
              "      <td>20.29</td>\n",
              "      <td>14.34</td>\n",
              "      <td>135.10</td>\n",
              "      <td>1297.0</td>\n",
              "      <td>0.1003</td>\n",
              "      <td>0.1457</td>\n",
              "      <td>0.1980</td>\n",
              "      <td>0.10430</td>\n",
              "      <td>...</td>\n",
              "      <td>22.54</td>\n",
              "      <td>16.67</td>\n",
              "      <td>152.20</td>\n",
              "      <td>1575.0</td>\n",
              "      <td>NaN</td>\n",
              "      <td>0.2050</td>\n",
              "      <td>0.4000</td>\n",
              "      <td>0.1625</td>\n",
              "      <td>0.2364</td>\n",
              "      <td>0.07678</td>\n",
              "    </tr>\n",
              "  </tbody>\n",
              "</table>\n",
              "<p>5 rows × 32 columns</p>\n",
              "</div>"
            ],
            "text/plain": [
              "         id diagnosis  radius_mean  texture_mean  perimeter_mean  area_mean  \\\n",
              "0    842302         M        17.99           NaN          122.80     1001.0   \n",
              "1    842517         M        20.57         17.77             NaN     1326.0   \n",
              "2  84300903         M        19.69         21.25          130.00     1203.0   \n",
              "3  84348301         M          NaN         20.38           77.58      386.1   \n",
              "4  84358402         M        20.29         14.34          135.10     1297.0   \n",
              "\n",
              "   smoothness_mean  compactness_mean  concavity_mean  concave points_mean  \\\n",
              "0           0.1184            0.2776             NaN              0.14710   \n",
              "1              NaN            0.1002          0.0869              0.07017   \n",
              "2           0.1096            0.1599          0.1974              0.12790   \n",
              "3           0.1425            0.2839          0.2414                  NaN   \n",
              "4           0.1003            0.1457          0.1980              0.10430   \n",
              "\n",
              "   ...  radius_worst  texture_worst  perimeter_worst  area_worst  \\\n",
              "0  ...           NaN          17.33           184.60      2019.0   \n",
              "1  ...         24.99          23.41           158.80      1956.0   \n",
              "2  ...         23.57          25.53           152.50         NaN   \n",
              "3  ...         14.91            NaN            98.87       567.7   \n",
              "4  ...         22.54          16.67           152.20      1575.0   \n",
              "\n",
              "   smoothness_worst  compactness_worst  concavity_worst  concave points_worst  \\\n",
              "0            0.1622             0.6656           0.7119                0.2654   \n",
              "1            0.1238             0.1866           0.2416                0.1860   \n",
              "2            0.1444             0.4245              NaN                   NaN   \n",
              "3            0.2098                NaN           0.6869                0.2575   \n",
              "4               NaN             0.2050           0.4000                0.1625   \n",
              "\n",
              "   symmetry_worst  fractal_dimension_worst  \n",
              "0             NaN                  0.11890  \n",
              "1          0.2750                      NaN  \n",
              "2          0.3613                  0.08758  \n",
              "3          0.6638                  0.17300  \n",
              "4          0.2364                  0.07678  \n",
              "\n",
              "[5 rows x 32 columns]"
            ]
          },
          "execution_count": 3,
          "metadata": {},
          "output_type": "execute_result"
        }
      ],
      "source": [
        "#Printing the first few rows\n",
        "data.head()"
      ]
    },
    {
      "cell_type": "code",
      "execution_count": null,
      "id": "f428dc44",
      "metadata": {
        "id": "f428dc44",
        "outputId": "6f5ae27c-f116-4503-b5bc-a09b40b7cf19"
      },
      "outputs": [
        {
          "data": {
            "text/plain": [
              "(569, 32)"
            ]
          },
          "execution_count": 4,
          "metadata": {},
          "output_type": "execute_result"
        }
      ],
      "source": [
        "data.shape#Dimension of the data frame"
      ]
    },
    {
      "cell_type": "code",
      "execution_count": null,
      "id": "53e706d0",
      "metadata": {
        "id": "53e706d0",
        "outputId": "41acd085-bc10-4fe5-c593-aaff09d77aa8"
      },
      "outputs": [
        {
          "data": {
            "text/html": [
              "<div>\n",
              "<style scoped>\n",
              "    .dataframe tbody tr th:only-of-type {\n",
              "        vertical-align: middle;\n",
              "    }\n",
              "\n",
              "    .dataframe tbody tr th {\n",
              "        vertical-align: top;\n",
              "    }\n",
              "\n",
              "    .dataframe thead th {\n",
              "        text-align: right;\n",
              "    }\n",
              "</style>\n",
              "<table border=\"1\" class=\"dataframe\">\n",
              "  <thead>\n",
              "    <tr style=\"text-align: right;\">\n",
              "      <th></th>\n",
              "      <th>id</th>\n",
              "      <th>radius_mean</th>\n",
              "      <th>texture_mean</th>\n",
              "      <th>perimeter_mean</th>\n",
              "      <th>area_mean</th>\n",
              "      <th>smoothness_mean</th>\n",
              "      <th>compactness_mean</th>\n",
              "      <th>concavity_mean</th>\n",
              "      <th>concave points_mean</th>\n",
              "      <th>symmetry_mean</th>\n",
              "      <th>...</th>\n",
              "      <th>radius_worst</th>\n",
              "      <th>texture_worst</th>\n",
              "      <th>perimeter_worst</th>\n",
              "      <th>area_worst</th>\n",
              "      <th>smoothness_worst</th>\n",
              "      <th>compactness_worst</th>\n",
              "      <th>concavity_worst</th>\n",
              "      <th>concave points_worst</th>\n",
              "      <th>symmetry_worst</th>\n",
              "      <th>fractal_dimension_worst</th>\n",
              "    </tr>\n",
              "  </thead>\n",
              "  <tbody>\n",
              "    <tr>\n",
              "      <th>count</th>\n",
              "      <td>5.690000e+02</td>\n",
              "      <td>529.000000</td>\n",
              "      <td>546.000000</td>\n",
              "      <td>548.000000</td>\n",
              "      <td>533.000000</td>\n",
              "      <td>523.000000</td>\n",
              "      <td>521.000000</td>\n",
              "      <td>543.000000</td>\n",
              "      <td>539.000000</td>\n",
              "      <td>552.000000</td>\n",
              "      <td>...</td>\n",
              "      <td>517.000000</td>\n",
              "      <td>550.000000</td>\n",
              "      <td>563.000000</td>\n",
              "      <td>520.000000</td>\n",
              "      <td>523.000000</td>\n",
              "      <td>546.000000</td>\n",
              "      <td>542.000000</td>\n",
              "      <td>532.000000</td>\n",
              "      <td>527.000000</td>\n",
              "      <td>538.000000</td>\n",
              "    </tr>\n",
              "    <tr>\n",
              "      <th>mean</th>\n",
              "      <td>3.037183e+07</td>\n",
              "      <td>14.216845</td>\n",
              "      <td>19.259524</td>\n",
              "      <td>92.084215</td>\n",
              "      <td>649.578987</td>\n",
              "      <td>0.096225</td>\n",
              "      <td>0.104978</td>\n",
              "      <td>0.087063</td>\n",
              "      <td>0.048771</td>\n",
              "      <td>0.180716</td>\n",
              "      <td>...</td>\n",
              "      <td>16.317518</td>\n",
              "      <td>25.596982</td>\n",
              "      <td>107.047975</td>\n",
              "      <td>893.560385</td>\n",
              "      <td>0.132735</td>\n",
              "      <td>0.252812</td>\n",
              "      <td>0.271253</td>\n",
              "      <td>0.113338</td>\n",
              "      <td>0.290327</td>\n",
              "      <td>0.083921</td>\n",
              "    </tr>\n",
              "    <tr>\n",
              "      <th>std</th>\n",
              "      <td>1.250206e+08</td>\n",
              "      <td>3.579984</td>\n",
              "      <td>4.284827</td>\n",
              "      <td>24.288435</td>\n",
              "      <td>350.702849</td>\n",
              "      <td>0.014122</td>\n",
              "      <td>0.053365</td>\n",
              "      <td>0.078165</td>\n",
              "      <td>0.039129</td>\n",
              "      <td>0.027477</td>\n",
              "      <td>...</td>\n",
              "      <td>4.825679</td>\n",
              "      <td>6.179229</td>\n",
              "      <td>33.481178</td>\n",
              "      <td>582.829079</td>\n",
              "      <td>0.023109</td>\n",
              "      <td>0.155683</td>\n",
              "      <td>0.207909</td>\n",
              "      <td>0.065122</td>\n",
              "      <td>0.061585</td>\n",
              "      <td>0.018031</td>\n",
              "    </tr>\n",
              "    <tr>\n",
              "      <th>min</th>\n",
              "      <td>8.670000e+03</td>\n",
              "      <td>6.981000</td>\n",
              "      <td>9.710000</td>\n",
              "      <td>43.790000</td>\n",
              "      <td>143.500000</td>\n",
              "      <td>0.052630</td>\n",
              "      <td>0.007830</td>\n",
              "      <td>0.000000</td>\n",
              "      <td>0.000000</td>\n",
              "      <td>0.106000</td>\n",
              "      <td>...</td>\n",
              "      <td>8.678000</td>\n",
              "      <td>12.020000</td>\n",
              "      <td>50.410000</td>\n",
              "      <td>185.200000</td>\n",
              "      <td>0.071170</td>\n",
              "      <td>0.034320</td>\n",
              "      <td>0.000000</td>\n",
              "      <td>0.000000</td>\n",
              "      <td>0.156500</td>\n",
              "      <td>0.055040</td>\n",
              "    </tr>\n",
              "    <tr>\n",
              "      <th>25%</th>\n",
              "      <td>8.692180e+05</td>\n",
              "      <td>11.740000</td>\n",
              "      <td>16.172500</td>\n",
              "      <td>75.247500</td>\n",
              "      <td>416.200000</td>\n",
              "      <td>0.085855</td>\n",
              "      <td>0.065450</td>\n",
              "      <td>0.029520</td>\n",
              "      <td>0.020310</td>\n",
              "      <td>0.161800</td>\n",
              "      <td>...</td>\n",
              "      <td>13.010000</td>\n",
              "      <td>20.992500</td>\n",
              "      <td>84.035000</td>\n",
              "      <td>515.675000</td>\n",
              "      <td>0.116900</td>\n",
              "      <td>0.147325</td>\n",
              "      <td>0.112975</td>\n",
              "      <td>0.063302</td>\n",
              "      <td>0.251350</td>\n",
              "      <td>0.071318</td>\n",
              "    </tr>\n",
              "    <tr>\n",
              "      <th>50%</th>\n",
              "      <td>9.060240e+05</td>\n",
              "      <td>13.430000</td>\n",
              "      <td>18.785000</td>\n",
              "      <td>86.140000</td>\n",
              "      <td>545.200000</td>\n",
              "      <td>0.095780</td>\n",
              "      <td>0.094530</td>\n",
              "      <td>0.059880</td>\n",
              "      <td>0.033260</td>\n",
              "      <td>0.178600</td>\n",
              "      <td>...</td>\n",
              "      <td>14.990000</td>\n",
              "      <td>25.225000</td>\n",
              "      <td>97.660000</td>\n",
              "      <td>688.100000</td>\n",
              "      <td>0.131300</td>\n",
              "      <td>0.211450</td>\n",
              "      <td>0.227450</td>\n",
              "      <td>0.098545</td>\n",
              "      <td>0.282300</td>\n",
              "      <td>0.079900</td>\n",
              "    </tr>\n",
              "    <tr>\n",
              "      <th>75%</th>\n",
              "      <td>8.813129e+06</td>\n",
              "      <td>16.130000</td>\n",
              "      <td>21.695000</td>\n",
              "      <td>104.400000</td>\n",
              "      <td>781.000000</td>\n",
              "      <td>0.105100</td>\n",
              "      <td>0.130500</td>\n",
              "      <td>0.125050</td>\n",
              "      <td>0.073520</td>\n",
              "      <td>0.195400</td>\n",
              "      <td>...</td>\n",
              "      <td>19.070000</td>\n",
              "      <td>29.497500</td>\n",
              "      <td>125.050000</td>\n",
              "      <td>1121.750000</td>\n",
              "      <td>0.146450</td>\n",
              "      <td>0.336450</td>\n",
              "      <td>0.379550</td>\n",
              "      <td>0.160750</td>\n",
              "      <td>0.317750</td>\n",
              "      <td>0.092140</td>\n",
              "    </tr>\n",
              "    <tr>\n",
              "      <th>max</th>\n",
              "      <td>9.113205e+08</td>\n",
              "      <td>28.110000</td>\n",
              "      <td>39.280000</td>\n",
              "      <td>188.500000</td>\n",
              "      <td>2501.000000</td>\n",
              "      <td>0.163400</td>\n",
              "      <td>0.345400</td>\n",
              "      <td>0.426400</td>\n",
              "      <td>0.201200</td>\n",
              "      <td>0.304000</td>\n",
              "      <td>...</td>\n",
              "      <td>36.040000</td>\n",
              "      <td>49.540000</td>\n",
              "      <td>251.200000</td>\n",
              "      <td>4254.000000</td>\n",
              "      <td>0.222600</td>\n",
              "      <td>1.058000</td>\n",
              "      <td>1.252000</td>\n",
              "      <td>0.291000</td>\n",
              "      <td>0.663800</td>\n",
              "      <td>0.207500</td>\n",
              "    </tr>\n",
              "  </tbody>\n",
              "</table>\n",
              "<p>8 rows × 31 columns</p>\n",
              "</div>"
            ],
            "text/plain": [
              "                 id  radius_mean  texture_mean  perimeter_mean    area_mean  \\\n",
              "count  5.690000e+02   529.000000    546.000000      548.000000   533.000000   \n",
              "mean   3.037183e+07    14.216845     19.259524       92.084215   649.578987   \n",
              "std    1.250206e+08     3.579984      4.284827       24.288435   350.702849   \n",
              "min    8.670000e+03     6.981000      9.710000       43.790000   143.500000   \n",
              "25%    8.692180e+05    11.740000     16.172500       75.247500   416.200000   \n",
              "50%    9.060240e+05    13.430000     18.785000       86.140000   545.200000   \n",
              "75%    8.813129e+06    16.130000     21.695000      104.400000   781.000000   \n",
              "max    9.113205e+08    28.110000     39.280000      188.500000  2501.000000   \n",
              "\n",
              "       smoothness_mean  compactness_mean  concavity_mean  concave points_mean  \\\n",
              "count       523.000000        521.000000      543.000000           539.000000   \n",
              "mean          0.096225          0.104978        0.087063             0.048771   \n",
              "std           0.014122          0.053365        0.078165             0.039129   \n",
              "min           0.052630          0.007830        0.000000             0.000000   \n",
              "25%           0.085855          0.065450        0.029520             0.020310   \n",
              "50%           0.095780          0.094530        0.059880             0.033260   \n",
              "75%           0.105100          0.130500        0.125050             0.073520   \n",
              "max           0.163400          0.345400        0.426400             0.201200   \n",
              "\n",
              "       symmetry_mean  ...  radius_worst  texture_worst  perimeter_worst  \\\n",
              "count     552.000000  ...    517.000000     550.000000       563.000000   \n",
              "mean        0.180716  ...     16.317518      25.596982       107.047975   \n",
              "std         0.027477  ...      4.825679       6.179229        33.481178   \n",
              "min         0.106000  ...      8.678000      12.020000        50.410000   \n",
              "25%         0.161800  ...     13.010000      20.992500        84.035000   \n",
              "50%         0.178600  ...     14.990000      25.225000        97.660000   \n",
              "75%         0.195400  ...     19.070000      29.497500       125.050000   \n",
              "max         0.304000  ...     36.040000      49.540000       251.200000   \n",
              "\n",
              "        area_worst  smoothness_worst  compactness_worst  concavity_worst  \\\n",
              "count   520.000000        523.000000         546.000000       542.000000   \n",
              "mean    893.560385          0.132735           0.252812         0.271253   \n",
              "std     582.829079          0.023109           0.155683         0.207909   \n",
              "min     185.200000          0.071170           0.034320         0.000000   \n",
              "25%     515.675000          0.116900           0.147325         0.112975   \n",
              "50%     688.100000          0.131300           0.211450         0.227450   \n",
              "75%    1121.750000          0.146450           0.336450         0.379550   \n",
              "max    4254.000000          0.222600           1.058000         1.252000   \n",
              "\n",
              "       concave points_worst  symmetry_worst  fractal_dimension_worst  \n",
              "count            532.000000      527.000000               538.000000  \n",
              "mean               0.113338        0.290327                 0.083921  \n",
              "std                0.065122        0.061585                 0.018031  \n",
              "min                0.000000        0.156500                 0.055040  \n",
              "25%                0.063302        0.251350                 0.071318  \n",
              "50%                0.098545        0.282300                 0.079900  \n",
              "75%                0.160750        0.317750                 0.092140  \n",
              "max                0.291000        0.663800                 0.207500  \n",
              "\n",
              "[8 rows x 31 columns]"
            ]
          },
          "execution_count": 5,
          "metadata": {},
          "output_type": "execute_result"
        }
      ],
      "source": [
        "data.describe()#Descriptive Statistics"
      ]
    },
    {
      "cell_type": "code",
      "execution_count": null,
      "id": "99a85623",
      "metadata": {
        "id": "99a85623",
        "outputId": "854f6e8d-8346-414d-9d4d-d360ed6aaa54"
      },
      "outputs": [
        {
          "name": "stdout",
          "output_type": "stream",
          "text": [
            "<class 'pandas.core.frame.DataFrame'>\n",
            "RangeIndex: 569 entries, 0 to 568\n",
            "Data columns (total 32 columns):\n",
            " #   Column                   Non-Null Count  Dtype  \n",
            "---  ------                   --------------  -----  \n",
            " 0   id                       569 non-null    int64  \n",
            " 1   diagnosis                569 non-null    object \n",
            " 2   radius_mean              529 non-null    float64\n",
            " 3   texture_mean             546 non-null    float64\n",
            " 4   perimeter_mean           548 non-null    float64\n",
            " 5   area_mean                533 non-null    float64\n",
            " 6   smoothness_mean          523 non-null    float64\n",
            " 7   compactness_mean         521 non-null    float64\n",
            " 8   concavity_mean           543 non-null    float64\n",
            " 9   concave points_mean      539 non-null    float64\n",
            " 10  symmetry_mean            552 non-null    float64\n",
            " 11  fractal_dimension_mean   529 non-null    float64\n",
            " 12  radius_se                553 non-null    float64\n",
            " 13  texture_se               524 non-null    float64\n",
            " 14  perimeter_se             539 non-null    float64\n",
            " 15  area_se                  537 non-null    float64\n",
            " 16  smoothness_se            540 non-null    float64\n",
            " 17  compactness_se           523 non-null    float64\n",
            " 18  concavity_se             529 non-null    float64\n",
            " 19  concave points_se        563 non-null    float64\n",
            " 20  symmetry_se              541 non-null    float64\n",
            " 21  fractal_dimension_se     543 non-null    float64\n",
            " 22  radius_worst             517 non-null    float64\n",
            " 23  texture_worst            550 non-null    float64\n",
            " 24  perimeter_worst          563 non-null    float64\n",
            " 25  area_worst               520 non-null    float64\n",
            " 26  smoothness_worst         523 non-null    float64\n",
            " 27  compactness_worst        546 non-null    float64\n",
            " 28  concavity_worst          542 non-null    float64\n",
            " 29  concave points_worst     532 non-null    float64\n",
            " 30  symmetry_worst           527 non-null    float64\n",
            " 31  fractal_dimension_worst  538 non-null    float64\n",
            "dtypes: float64(30), int64(1), object(1)\n",
            "memory usage: 142.4+ KB\n"
          ]
        }
      ],
      "source": [
        "data.info()#To see the every features data type"
      ]
    },
    {
      "cell_type": "code",
      "execution_count": null,
      "id": "a54a962b",
      "metadata": {
        "id": "a54a962b",
        "outputId": "4034c750-7fc1-4ac3-e13c-c50d8a945220"
      },
      "outputs": [
        {
          "data": {
            "text/plain": [
              "id                          0\n",
              "diagnosis                   0\n",
              "radius_mean                40\n",
              "texture_mean               23\n",
              "perimeter_mean             21\n",
              "area_mean                  36\n",
              "smoothness_mean            46\n",
              "compactness_mean           48\n",
              "concavity_mean             26\n",
              "concave points_mean        30\n",
              "symmetry_mean              17\n",
              "fractal_dimension_mean     40\n",
              "radius_se                  16\n",
              "texture_se                 45\n",
              "perimeter_se               30\n",
              "area_se                    32\n",
              "smoothness_se              29\n",
              "compactness_se             46\n",
              "concavity_se               40\n",
              "concave points_se           6\n",
              "symmetry_se                28\n",
              "fractal_dimension_se       26\n",
              "radius_worst               52\n",
              "texture_worst              19\n",
              "perimeter_worst             6\n",
              "area_worst                 49\n",
              "smoothness_worst           46\n",
              "compactness_worst          23\n",
              "concavity_worst            27\n",
              "concave points_worst       37\n",
              "symmetry_worst             42\n",
              "fractal_dimension_worst    31\n",
              "dtype: int64"
            ]
          },
          "execution_count": 7,
          "metadata": {},
          "output_type": "execute_result"
        }
      ],
      "source": [
        "#Checking the number of null values in every feature\n",
        "data.isnull().sum()"
      ]
    },
    {
      "cell_type": "code",
      "execution_count": null,
      "id": "54a14ab2",
      "metadata": {
        "id": "54a14ab2",
        "outputId": "80c1daba-47d7-44ef-e7f5-0c052e0de4a0"
      },
      "outputs": [
        {
          "name": "stderr",
          "output_type": "stream",
          "text": [
            "C:\\Users\\91900\\anaconda3\\lib\\site-packages\\seaborn\\distributions.py:2557: FutureWarning: `distplot` is a deprecated function and will be removed in a future version. Please adapt your code to use either `displot` (a figure-level function with similar flexibility) or `histplot` (an axes-level function for histograms).\n",
            "  warnings.warn(msg, FutureWarning)\n"
          ]
        },
        {
          "data": {
            "text/plain": [
              "<AxesSubplot:xlabel='radius_mean', ylabel='Density'>"
            ]
          },
          "execution_count": 8,
          "metadata": {},
          "output_type": "execute_result"
        },
        {
          "data": {
            "image/png": "[encoded data removed]",
            "text/plain": [
              "<Figure size 432x288 with 1 Axes>"
            ]
          },
          "metadata": {
            "needs_background": "light"
          },
          "output_type": "display_data"
        }
      ],
      "source": [
        "sns.distplot(data['radius_mean'])#Checking the data distribution of the feature'radius mean'"
      ]
    },
    {
      "cell_type": "code",
      "execution_count": null,
      "id": "78f018b9",
      "metadata": {
        "id": "78f018b9",
        "outputId": "378bf24e-b316-40e2-b80b-6e2334815f69"
      },
      "outputs": [
        {
          "name": "stderr",
          "output_type": "stream",
          "text": [
            "C:\\Users\\91900\\anaconda3\\lib\\site-packages\\seaborn\\distributions.py:2557: FutureWarning: `distplot` is a deprecated function and will be removed in a future version. Please adapt your code to use either `displot` (a figure-level function with similar flexibility) or `histplot` (an axes-level function for histograms).\n",
            "  warnings.warn(msg, FutureWarning)\n"
          ]
        },
        {
          "data": {
            "text/plain": [
              "<AxesSubplot:xlabel='radius_mean', ylabel='Density'>"
            ]
          },
          "execution_count": 9,
          "metadata": {},
          "output_type": "execute_result"
        },
        {
          "data": {
            "image/png": "[encoded data removed]",
            "text/plain": [
              "<Figure size 432x288 with 1 Axes>"
            ]
          },
          "metadata": {
            "needs_background": "light"
          },
          "output_type": "display_data"
        }
      ],
      "source": [
        "radius_impute = data['radius_mean'].fillna(data['radius_mean'].mean())#Checking the data distribution of the feature 'radius mean' after imputing it with null values\n",
        "sns.distplot(data['radius_mean'])"
      ]
    },
    {
      "cell_type": "markdown",
      "id": "97196c2d",
      "metadata": {
        "id": "97196c2d"
      },
      "source": [
        "Inference: The distribution after imputing and before imputing does not have much difference."
      ]
    },
    {
      "cell_type": "code",
      "execution_count": null,
      "id": "833eb012",
      "metadata": {
        "id": "833eb012"
      },
      "outputs": [],
      "source": [
        "means = data.mean()#Getting the mean of every feature"
      ]
    },
    {
      "cell_type": "code",
      "execution_count": null,
      "id": "288317ce",
      "metadata": {
        "id": "288317ce"
      },
      "outputs": [],
      "source": [
        "data.fillna(means,inplace=True)#Filling the null values with mean of the particulat feature"
      ]
    },
    {
      "cell_type": "code",
      "execution_count": null,
      "id": "958ad2c5",
      "metadata": {
        "id": "958ad2c5",
        "outputId": "20339d6d-1ad6-4f17-a7af-159134a687fc"
      },
      "outputs": [
        {
          "data": {
            "text/plain": [
              "id                         0\n",
              "diagnosis                  0\n",
              "radius_mean                0\n",
              "texture_mean               0\n",
              "perimeter_mean             0\n",
              "area_mean                  0\n",
              "smoothness_mean            0\n",
              "compactness_mean           0\n",
              "concavity_mean             0\n",
              "concave points_mean        0\n",
              "symmetry_mean              0\n",
              "fractal_dimension_mean     0\n",
              "radius_se                  0\n",
              "texture_se                 0\n",
              "perimeter_se               0\n",
              "area_se                    0\n",
              "smoothness_se              0\n",
              "compactness_se             0\n",
              "concavity_se               0\n",
              "concave points_se          0\n",
              "symmetry_se                0\n",
              "fractal_dimension_se       0\n",
              "radius_worst               0\n",
              "texture_worst              0\n",
              "perimeter_worst            0\n",
              "area_worst                 0\n",
              "smoothness_worst           0\n",
              "compactness_worst          0\n",
              "concavity_worst            0\n",
              "concave points_worst       0\n",
              "symmetry_worst             0\n",
              "fractal_dimension_worst    0\n",
              "dtype: int64"
            ]
          },
          "execution_count": 12,
          "metadata": {},
          "output_type": "execute_result"
        }
      ],
      "source": [
        "data.isnull().sum()"
      ]
    },
    {
      "cell_type": "code",
      "execution_count": null,
      "id": "780eade5",
      "metadata": {
        "id": "780eade5",
        "outputId": "d6ecf007-f709-47ff-e741-2279c39f7e9f"
      },
      "outputs": [
        {
          "data": {
            "text/html": [
              "<div>\n",
              "<style scoped>\n",
              "    .dataframe tbody tr th:only-of-type {\n",
              "        vertical-align: middle;\n",
              "    }\n",
              "\n",
              "    .dataframe tbody tr th {\n",
              "        vertical-align: top;\n",
              "    }\n",
              "\n",
              "    .dataframe thead th {\n",
              "        text-align: right;\n",
              "    }\n",
              "</style>\n",
              "<table border=\"1\" class=\"dataframe\">\n",
              "  <thead>\n",
              "    <tr style=\"text-align: right;\">\n",
              "      <th></th>\n",
              "      <th>id</th>\n",
              "      <th>diagnosis</th>\n",
              "      <th>radius_mean</th>\n",
              "      <th>texture_mean</th>\n",
              "      <th>perimeter_mean</th>\n",
              "      <th>area_mean</th>\n",
              "      <th>smoothness_mean</th>\n",
              "      <th>compactness_mean</th>\n",
              "      <th>concavity_mean</th>\n",
              "      <th>concave points_mean</th>\n",
              "      <th>...</th>\n",
              "      <th>radius_worst</th>\n",
              "      <th>texture_worst</th>\n",
              "      <th>perimeter_worst</th>\n",
              "      <th>area_worst</th>\n",
              "      <th>smoothness_worst</th>\n",
              "      <th>compactness_worst</th>\n",
              "      <th>concavity_worst</th>\n",
              "      <th>concave points_worst</th>\n",
              "      <th>symmetry_worst</th>\n",
              "      <th>fractal_dimension_worst</th>\n",
              "    </tr>\n",
              "  </thead>\n",
              "  <tbody>\n",
              "    <tr>\n",
              "      <th>0</th>\n",
              "      <td>842302</td>\n",
              "      <td>M</td>\n",
              "      <td>17.990000</td>\n",
              "      <td>19.259524</td>\n",
              "      <td>122.800000</td>\n",
              "      <td>1001.0</td>\n",
              "      <td>0.118400</td>\n",
              "      <td>0.2776</td>\n",
              "      <td>0.087063</td>\n",
              "      <td>0.147100</td>\n",
              "      <td>...</td>\n",
              "      <td>16.317518</td>\n",
              "      <td>17.330000</td>\n",
              "      <td>184.60</td>\n",
              "      <td>2019.000000</td>\n",
              "      <td>0.162200</td>\n",
              "      <td>0.665600</td>\n",
              "      <td>0.711900</td>\n",
              "      <td>0.265400</td>\n",
              "      <td>0.290327</td>\n",
              "      <td>0.118900</td>\n",
              "    </tr>\n",
              "    <tr>\n",
              "      <th>1</th>\n",
              "      <td>842517</td>\n",
              "      <td>M</td>\n",
              "      <td>20.570000</td>\n",
              "      <td>17.770000</td>\n",
              "      <td>92.084215</td>\n",
              "      <td>1326.0</td>\n",
              "      <td>0.096225</td>\n",
              "      <td>0.1002</td>\n",
              "      <td>0.086900</td>\n",
              "      <td>0.070170</td>\n",
              "      <td>...</td>\n",
              "      <td>24.990000</td>\n",
              "      <td>23.410000</td>\n",
              "      <td>158.80</td>\n",
              "      <td>1956.000000</td>\n",
              "      <td>0.123800</td>\n",
              "      <td>0.186600</td>\n",
              "      <td>0.241600</td>\n",
              "      <td>0.186000</td>\n",
              "      <td>0.275000</td>\n",
              "      <td>0.083921</td>\n",
              "    </tr>\n",
              "    <tr>\n",
              "      <th>2</th>\n",
              "      <td>84300903</td>\n",
              "      <td>M</td>\n",
              "      <td>19.690000</td>\n",
              "      <td>21.250000</td>\n",
              "      <td>130.000000</td>\n",
              "      <td>1203.0</td>\n",
              "      <td>0.109600</td>\n",
              "      <td>0.1599</td>\n",
              "      <td>0.197400</td>\n",
              "      <td>0.127900</td>\n",
              "      <td>...</td>\n",
              "      <td>23.570000</td>\n",
              "      <td>25.530000</td>\n",
              "      <td>152.50</td>\n",
              "      <td>893.560385</td>\n",
              "      <td>0.144400</td>\n",
              "      <td>0.424500</td>\n",
              "      <td>0.271253</td>\n",
              "      <td>0.113338</td>\n",
              "      <td>0.361300</td>\n",
              "      <td>0.087580</td>\n",
              "    </tr>\n",
              "    <tr>\n",
              "      <th>3</th>\n",
              "      <td>84348301</td>\n",
              "      <td>M</td>\n",
              "      <td>14.216845</td>\n",
              "      <td>20.380000</td>\n",
              "      <td>77.580000</td>\n",
              "      <td>386.1</td>\n",
              "      <td>0.142500</td>\n",
              "      <td>0.2839</td>\n",
              "      <td>0.241400</td>\n",
              "      <td>0.048771</td>\n",
              "      <td>...</td>\n",
              "      <td>14.910000</td>\n",
              "      <td>25.596982</td>\n",
              "      <td>98.87</td>\n",
              "      <td>567.700000</td>\n",
              "      <td>0.209800</td>\n",
              "      <td>0.252812</td>\n",
              "      <td>0.686900</td>\n",
              "      <td>0.257500</td>\n",
              "      <td>0.663800</td>\n",
              "      <td>0.173000</td>\n",
              "    </tr>\n",
              "    <tr>\n",
              "      <th>4</th>\n",
              "      <td>84358402</td>\n",
              "      <td>M</td>\n",
              "      <td>20.290000</td>\n",
              "      <td>14.340000</td>\n",
              "      <td>135.100000</td>\n",
              "      <td>1297.0</td>\n",
              "      <td>0.100300</td>\n",
              "      <td>0.1457</td>\n",
              "      <td>0.198000</td>\n",
              "      <td>0.104300</td>\n",
              "      <td>...</td>\n",
              "      <td>22.540000</td>\n",
              "      <td>16.670000</td>\n",
              "      <td>152.20</td>\n",
              "      <td>1575.000000</td>\n",
              "      <td>0.132735</td>\n",
              "      <td>0.205000</td>\n",
              "      <td>0.400000</td>\n",
              "      <td>0.162500</td>\n",
              "      <td>0.236400</td>\n",
              "      <td>0.076780</td>\n",
              "    </tr>\n",
              "  </tbody>\n",
              "</table>\n",
              "<p>5 rows × 32 columns</p>\n",
              "</div>"
            ],
            "text/plain": [
              "         id diagnosis  radius_mean  texture_mean  perimeter_mean  area_mean  \\\n",
              "0    842302         M    17.990000     19.259524      122.800000     1001.0   \n",
              "1    842517         M    20.570000     17.770000       92.084215     1326.0   \n",
              "2  84300903         M    19.690000     21.250000      130.000000     1203.0   \n",
              "3  84348301         M    14.216845     20.380000       77.580000      386.1   \n",
              "4  84358402         M    20.290000     14.340000      135.100000     1297.0   \n",
              "\n",
              "   smoothness_mean  compactness_mean  concavity_mean  concave points_mean  \\\n",
              "0         0.118400            0.2776        0.087063             0.147100   \n",
              "1         0.096225            0.1002        0.086900             0.070170   \n",
              "2         0.109600            0.1599        0.197400             0.127900   \n",
              "3         0.142500            0.2839        0.241400             0.048771   \n",
              "4         0.100300            0.1457        0.198000             0.104300   \n",
              "\n",
              "   ...  radius_worst  texture_worst  perimeter_worst   area_worst  \\\n",
              "0  ...     16.317518      17.330000           184.60  2019.000000   \n",
              "1  ...     24.990000      23.410000           158.80  1956.000000   \n",
              "2  ...     23.570000      25.530000           152.50   893.560385   \n",
              "3  ...     14.910000      25.596982            98.87   567.700000   \n",
              "4  ...     22.540000      16.670000           152.20  1575.000000   \n",
              "\n",
              "   smoothness_worst  compactness_worst  concavity_worst  concave points_worst  \\\n",
              "0          0.162200           0.665600         0.711900              0.265400   \n",
              "1          0.123800           0.186600         0.241600              0.186000   \n",
              "2          0.144400           0.424500         0.271253              0.113338   \n",
              "3          0.209800           0.252812         0.686900              0.257500   \n",
              "4          0.132735           0.205000         0.400000              0.162500   \n",
              "\n",
              "   symmetry_worst  fractal_dimension_worst  \n",
              "0        0.290327                 0.118900  \n",
              "1        0.275000                 0.083921  \n",
              "2        0.361300                 0.087580  \n",
              "3        0.663800                 0.173000  \n",
              "4        0.236400                 0.076780  \n",
              "\n",
              "[5 rows x 32 columns]"
            ]
          },
          "execution_count": 13,
          "metadata": {},
          "output_type": "execute_result"
        }
      ],
      "source": [
        "data.head()"
      ]
    },
    {
      "cell_type": "code",
      "execution_count": null,
      "id": "3a05565b",
      "metadata": {
        "id": "3a05565b",
        "outputId": "638b31ee-f11f-4362-eca7-1b79aa7c0adf"
      },
      "outputs": [
        {
          "data": {
            "text/plain": [
              "id                         3.037183e+07\n",
              "radius_mean                1.421684e+01\n",
              "texture_mean               1.925952e+01\n",
              "perimeter_mean             9.208422e+01\n",
              "area_mean                  6.495790e+02\n",
              "smoothness_mean            9.622533e-02\n",
              "compactness_mean           1.049779e-01\n",
              "concavity_mean             8.706317e-02\n",
              "concave points_mean        4.877089e-02\n",
              "symmetry_mean              1.807165e-01\n",
              "fractal_dimension_mean     6.283775e-02\n",
              "radius_se                  4.036613e-01\n",
              "texture_se                 1.223568e+00\n",
              "perimeter_se               2.897406e+00\n",
              "area_se                    4.021844e+01\n",
              "smoothness_se              7.027543e-03\n",
              "compactness_se             2.541915e-02\n",
              "concavity_se               3.231834e-02\n",
              "concave points_se          1.178870e-02\n",
              "symmetry_se                2.044377e-02\n",
              "fractal_dimension_se       3.786815e-03\n",
              "radius_worst               1.631752e+01\n",
              "texture_worst              2.559698e+01\n",
              "perimeter_worst            1.070480e+02\n",
              "area_worst                 8.935604e+02\n",
              "smoothness_worst           1.327352e-01\n",
              "compactness_worst          2.528123e-01\n",
              "concavity_worst            2.712529e-01\n",
              "concave points_worst       1.133384e-01\n",
              "symmetry_worst             2.903269e-01\n",
              "fractal_dimension_worst    8.392141e-02\n",
              "dtype: float64"
            ]
          },
          "execution_count": 14,
          "metadata": {},
          "output_type": "execute_result"
        }
      ],
      "source": [
        "data.mean()"
      ]
    },
    {
      "cell_type": "code",
      "execution_count": null,
      "id": "718d3a32",
      "metadata": {
        "id": "718d3a32",
        "outputId": "2e6c3820-5ef0-4f11-92be-b51868156d96"
      },
      "outputs": [
        {
          "data": {
            "text/plain": [
              "id                         1.250206e+08\n",
              "radius_mean                3.451628e+00\n",
              "texture_mean               4.197177e+00\n",
              "perimeter_mean             2.383521e+01\n",
              "area_mean                  3.394071e+02\n",
              "smoothness_mean            1.353772e-02\n",
              "compactness_mean           5.106074e-02\n",
              "concavity_mean             7.635521e-02\n",
              "concave points_mean        3.808150e-02\n",
              "symmetry_mean              2.706284e-02\n",
              "fractal_dimension_mean     6.944606e-03\n",
              "radius_se                  2.745103e-01\n",
              "texture_se                 5.380375e-01\n",
              "perimeter_se               1.987907e+00\n",
              "area_se                    4.486268e+01\n",
              "smoothness_se              2.918045e-03\n",
              "compactness_se             1.729527e-02\n",
              "concavity_se               2.953150e-02\n",
              "concave points_se          6.111217e-03\n",
              "symmetry_se                7.947877e-03\n",
              "fractal_dimension_se       2.600691e-03\n",
              "radius_worst               4.599484e+00\n",
              "texture_worst              6.075001e+00\n",
              "perimeter_worst            3.330387e+01\n",
              "area_worst                 5.571225e+02\n",
              "smoothness_worst           2.215396e-02\n",
              "compactness_worst          1.524979e-01\n",
              "concavity_worst            2.029071e-01\n",
              "concave points_worst       6.296480e-02\n",
              "symmetry_worst             5.926434e-02\n",
              "fractal_dimension_worst    1.753223e-02\n",
              "dtype: float64"
            ]
          },
          "execution_count": 15,
          "metadata": {},
          "output_type": "execute_result"
        }
      ],
      "source": [
        "data.std()"
      ]
    },
    {
      "cell_type": "code",
      "execution_count": null,
      "id": "08511a5e",
      "metadata": {
        "id": "08511a5e",
        "outputId": "79bd7702-c2f9-480f-d1eb-66d1806a07f1"
      },
      "outputs": [
        {
          "data": {
            "text/plain": [
              "2.7724661486054747"
            ]
          },
          "execution_count": 16,
          "metadata": {},
          "output_type": "execute_result"
        }
      ],
      "source": [
        "from statsmodels import robust#To use robust mean absolute deviation\n",
        "robust.scale.mad(data.radius_mean)"
      ]
    },
    {
      "cell_type": "code",
      "execution_count": null,
      "id": "107c6994",
      "metadata": {
        "id": "107c6994",
        "outputId": "645d67a6-d55d-41f7-81a0-a5ff7dde57f7"
      },
      "outputs": [
        {
          "data": {
            "text/plain": [
              "id                         7.943911e+06\n",
              "radius_mean                3.860000e+00\n",
              "texture_mean               5.260000e+00\n",
              "perimeter_mean             2.806000e+01\n",
              "area_mean                  3.211000e+02\n",
              "smoothness_mean            1.723000e-02\n",
              "compactness_mean           6.108000e-02\n",
              "concavity_mean             9.010000e-02\n",
              "concave points_mean        4.787000e-02\n",
              "symmetry_mean              3.300000e-02\n",
              "fractal_dimension_mean     7.640000e-03\n",
              "radius_se                  2.343000e-01\n",
              "texture_se                 6.009000e-01\n",
              "perimeter_se               1.601000e+00\n",
              "area_se                    2.499000e+01\n",
              "smoothness_se              2.756000e-03\n",
              "compactness_se             1.716000e-02\n",
              "concavity_se               2.409000e-02\n",
              "concave points_se          6.989000e-03\n",
              "symmetry_se                7.600000e-03\n",
              "fractal_dimension_se       2.145000e-03\n",
              "radius_worst               4.960000e+00\n",
              "texture_worst              8.080000e+00\n",
              "perimeter_worst            4.079000e+01\n",
              "area_worst                 5.013000e+02\n",
              "smoothness_worst           2.640000e-02\n",
              "compactness_worst          1.765000e-01\n",
              "concavity_worst            2.573000e-01\n",
              "concave points_worst       9.082000e-02\n",
              "symmetry_worst             6.070000e-02\n",
              "fractal_dimension_worst    1.960000e-02\n",
              "dtype: float64"
            ]
          },
          "execution_count": 17,
          "metadata": {},
          "output_type": "execute_result"
        }
      ],
      "source": [
        "#The interquartile range of the data features\n",
        "data.quantile(0.75)-data.quantile(0.25)"
      ]
    },
    {
      "cell_type": "code",
      "execution_count": null,
      "id": "fe0b0f14",
      "metadata": {
        "id": "fe0b0f14",
        "outputId": "a0a559f1-c9c6-4452-9c53-24789e33deb9"
      },
      "outputs": [
        {
          "ename": "ModuleNotFoundError",
          "evalue": "No module named 'dataprep'",
          "output_type": "error",
          "traceback": [
            "\u001b[1;31m---------------------------------------------------------------------------\u001b[0m",
            "\u001b[1;31mModuleNotFoundError\u001b[0m                       Traceback (most recent call last)",
            "\u001b[1;32m<ipython-input-133-0cc2bece8cee>\u001b[0m in \u001b[0;36m<module>\u001b[1;34m\u001b[0m\n\u001b[1;32m----> 1\u001b[1;33m \u001b[1;32mfrom\u001b[0m \u001b[0mdataprep\u001b[0m\u001b[1;33m.\u001b[0m\u001b[0meda\u001b[0m \u001b[1;32mimport\u001b[0m \u001b[0mcreate_report\u001b[0m\u001b[1;33m\u001b[0m\u001b[1;33m\u001b[0m\u001b[0m\n\u001b[0m\u001b[0;32m      2\u001b[0m \u001b[1;33m\u001b[0m\u001b[0m\n\u001b[0;32m      3\u001b[0m \u001b[0mcreate_report\u001b[0m\u001b[1;33m(\u001b[0m\u001b[0mdata\u001b[0m\u001b[1;33m)\u001b[0m\u001b[1;33m\u001b[0m\u001b[1;33m\u001b[0m\u001b[0m\n",
            "\u001b[1;31mModuleNotFoundError\u001b[0m: No module named 'dataprep'"
          ]
        }
      ],
      "source": [
        "from dataprep.eda import create_report\n",
        "\n",
        "create_report(data)"
      ]
    },
    {
      "cell_type": "markdown",
      "id": "aef4b584",
      "metadata": {
        "id": "aef4b584"
      },
      "source": [
        "##### Data Distributions"
      ]
    },
    {
      "cell_type": "markdown",
      "id": "295a72cf",
      "metadata": {
        "id": "295a72cf"
      },
      "source": [
        "#### Box Plot"
      ]
    },
    {
      "cell_type": "code",
      "execution_count": null,
      "id": "a44e402d",
      "metadata": {
        "id": "a44e402d",
        "outputId": "817cc1cc-3129-440d-c81e-1405f6435592"
      },
      "outputs": [
        {
          "data": {
            "text/html": [
              "<div>\n",
              "<style scoped>\n",
              "    .dataframe tbody tr th:only-of-type {\n",
              "        vertical-align: middle;\n",
              "    }\n",
              "\n",
              "    .dataframe tbody tr th {\n",
              "        vertical-align: top;\n",
              "    }\n",
              "\n",
              "    .dataframe thead th {\n",
              "        text-align: right;\n",
              "    }\n",
              "</style>\n",
              "<table border=\"1\" class=\"dataframe\">\n",
              "  <thead>\n",
              "    <tr style=\"text-align: right;\">\n",
              "      <th></th>\n",
              "      <th>id</th>\n",
              "      <th>radius_mean</th>\n",
              "      <th>texture_mean</th>\n",
              "      <th>perimeter_mean</th>\n",
              "      <th>area_mean</th>\n",
              "      <th>smoothness_mean</th>\n",
              "      <th>compactness_mean</th>\n",
              "      <th>concavity_mean</th>\n",
              "      <th>concave points_mean</th>\n",
              "      <th>symmetry_mean</th>\n",
              "      <th>...</th>\n",
              "      <th>radius_worst</th>\n",
              "      <th>texture_worst</th>\n",
              "      <th>perimeter_worst</th>\n",
              "      <th>area_worst</th>\n",
              "      <th>smoothness_worst</th>\n",
              "      <th>compactness_worst</th>\n",
              "      <th>concavity_worst</th>\n",
              "      <th>concave points_worst</th>\n",
              "      <th>symmetry_worst</th>\n",
              "      <th>fractal_dimension_worst</th>\n",
              "    </tr>\n",
              "  </thead>\n",
              "  <tbody>\n",
              "    <tr>\n",
              "      <th>0.05</th>\n",
              "      <td>90267.0</td>\n",
              "      <td>9.6674</td>\n",
              "      <td>13.128</td>\n",
              "      <td>61.132</td>\n",
              "      <td>275.78</td>\n",
              "      <td>0.075534</td>\n",
              "      <td>0.041476</td>\n",
              "      <td>0.004983</td>\n",
              "      <td>0.005706</td>\n",
              "      <td>0.14150</td>\n",
              "      <td>...</td>\n",
              "      <td>10.658</td>\n",
              "      <td>16.574</td>\n",
              "      <td>67.856</td>\n",
              "      <td>338.70</td>\n",
              "      <td>0.097442</td>\n",
              "      <td>0.071764</td>\n",
              "      <td>0.019824</td>\n",
              "      <td>0.025640</td>\n",
              "      <td>0.21582</td>\n",
              "      <td>0.062726</td>\n",
              "    </tr>\n",
              "    <tr>\n",
              "      <th>0.10</th>\n",
              "      <td>853155.4</td>\n",
              "      <td>10.4800</td>\n",
              "      <td>14.150</td>\n",
              "      <td>66.700</td>\n",
              "      <td>323.68</td>\n",
              "      <td>0.080086</td>\n",
              "      <td>0.050500</td>\n",
              "      <td>0.013954</td>\n",
              "      <td>0.011362</td>\n",
              "      <td>0.14958</td>\n",
              "      <td>...</td>\n",
              "      <td>11.460</td>\n",
              "      <td>17.800</td>\n",
              "      <td>72.178</td>\n",
              "      <td>394.04</td>\n",
              "      <td>0.103780</td>\n",
              "      <td>0.095398</td>\n",
              "      <td>0.048170</td>\n",
              "      <td>0.039886</td>\n",
              "      <td>0.22816</td>\n",
              "      <td>0.065914</td>\n",
              "    </tr>\n",
              "    <tr>\n",
              "      <th>0.25</th>\n",
              "      <td>869218.0</td>\n",
              "      <td>11.8500</td>\n",
              "      <td>16.330</td>\n",
              "      <td>75.540</td>\n",
              "      <td>423.60</td>\n",
              "      <td>0.086770</td>\n",
              "      <td>0.067220</td>\n",
              "      <td>0.030000</td>\n",
              "      <td>0.020740</td>\n",
              "      <td>0.16200</td>\n",
              "      <td>...</td>\n",
              "      <td>13.140</td>\n",
              "      <td>21.180</td>\n",
              "      <td>84.110</td>\n",
              "      <td>523.70</td>\n",
              "      <td>0.118500</td>\n",
              "      <td>0.148600</td>\n",
              "      <td>0.118600</td>\n",
              "      <td>0.065280</td>\n",
              "      <td>0.25400</td>\n",
              "      <td>0.072200</td>\n",
              "    </tr>\n",
              "    <tr>\n",
              "      <th>0.75</th>\n",
              "      <td>8813129.0</td>\n",
              "      <td>15.7100</td>\n",
              "      <td>21.590</td>\n",
              "      <td>103.600</td>\n",
              "      <td>744.70</td>\n",
              "      <td>0.104000</td>\n",
              "      <td>0.128300</td>\n",
              "      <td>0.120100</td>\n",
              "      <td>0.068610</td>\n",
              "      <td>0.19500</td>\n",
              "      <td>...</td>\n",
              "      <td>18.100</td>\n",
              "      <td>29.260</td>\n",
              "      <td>124.900</td>\n",
              "      <td>1025.00</td>\n",
              "      <td>0.144900</td>\n",
              "      <td>0.325100</td>\n",
              "      <td>0.375900</td>\n",
              "      <td>0.156100</td>\n",
              "      <td>0.31470</td>\n",
              "      <td>0.091800</td>\n",
              "    </tr>\n",
              "  </tbody>\n",
              "</table>\n",
              "<p>4 rows × 31 columns</p>\n",
              "</div>"
            ],
            "text/plain": [
              "             id  radius_mean  texture_mean  perimeter_mean  area_mean  \\\n",
              "0.05    90267.0       9.6674        13.128          61.132     275.78   \n",
              "0.10   853155.4      10.4800        14.150          66.700     323.68   \n",
              "0.25   869218.0      11.8500        16.330          75.540     423.60   \n",
              "0.75  8813129.0      15.7100        21.590         103.600     744.70   \n",
              "\n",
              "      smoothness_mean  compactness_mean  concavity_mean  concave points_mean  \\\n",
              "0.05         0.075534          0.041476        0.004983             0.005706   \n",
              "0.10         0.080086          0.050500        0.013954             0.011362   \n",
              "0.25         0.086770          0.067220        0.030000             0.020740   \n",
              "0.75         0.104000          0.128300        0.120100             0.068610   \n",
              "\n",
              "      symmetry_mean  ...  radius_worst  texture_worst  perimeter_worst  \\\n",
              "0.05        0.14150  ...        10.658         16.574           67.856   \n",
              "0.10        0.14958  ...        11.460         17.800           72.178   \n",
              "0.25        0.16200  ...        13.140         21.180           84.110   \n",
              "0.75        0.19500  ...        18.100         29.260          124.900   \n",
              "\n",
              "      area_worst  smoothness_worst  compactness_worst  concavity_worst  \\\n",
              "0.05      338.70          0.097442           0.071764         0.019824   \n",
              "0.10      394.04          0.103780           0.095398         0.048170   \n",
              "0.25      523.70          0.118500           0.148600         0.118600   \n",
              "0.75     1025.00          0.144900           0.325100         0.375900   \n",
              "\n",
              "      concave points_worst  symmetry_worst  fractal_dimension_worst  \n",
              "0.05              0.025640         0.21582                 0.062726  \n",
              "0.10              0.039886         0.22816                 0.065914  \n",
              "0.25              0.065280         0.25400                 0.072200  \n",
              "0.75              0.156100         0.31470                 0.091800  \n",
              "\n",
              "[4 rows x 31 columns]"
            ]
          },
          "execution_count": 18,
          "metadata": {},
          "output_type": "execute_result"
        }
      ],
      "source": [
        "data.quantile([0.05,0.1,0.25,0.75])#finding the quantiles of the features"
      ]
    },
    {
      "cell_type": "markdown",
      "id": "cf996691",
      "metadata": {
        "id": "cf996691"
      },
      "source": [
        "5%, 10%, 25% and 75% of the features values"
      ]
    },
    {
      "cell_type": "code",
      "execution_count": null,
      "id": "470e1aea",
      "metadata": {
        "id": "470e1aea",
        "outputId": "836ecd72-61e8-40da-eab2-43a300962462"
      },
      "outputs": [
        {
          "data": {
            "text/plain": [
              "Text(0, 0.5, 'Radius Mean ')"
            ]
          },
          "execution_count": 19,
          "metadata": {},
          "output_type": "execute_result"
        },
        {
          "data": {
            "image/png": "[encoded data removed]",
            "text/plain": [
              "<Figure size 432x288 with 1 Axes>"
            ]
          },
          "metadata": {
            "needs_background": "light"
          },
          "output_type": "display_data"
        }
      ],
      "source": [
        "ax =  data['radius_mean'].plot.box()#Plotting the box plot to see the outliers of data\n",
        "ax.set_ylabel(\"Radius Mean \")"
      ]
    },
    {
      "cell_type": "markdown",
      "id": "399d12d7",
      "metadata": {
        "id": "399d12d7"
      },
      "source": [
        "Inference: There are number of outliers in the feature 'Radius Mean'"
      ]
    },
    {
      "cell_type": "code",
      "execution_count": null,
      "id": "7934673c",
      "metadata": {
        "id": "7934673c",
        "outputId": "4a59f90d-3faf-4612-baad-58191c519379"
      },
      "outputs": [
        {
          "data": {
            "text/plain": [
              "3.860000000000001"
            ]
          },
          "execution_count": 20,
          "metadata": {},
          "output_type": "execute_result"
        }
      ],
      "source": [
        "Radius_mean_IQR = data['radius_mean'].quantile(0.75) - data['radius_mean'].quantile(0.25)#Finding the InterQaurtile Range\n",
        "Radius_mean_IQR"
      ]
    },
    {
      "cell_type": "code",
      "execution_count": null,
      "id": "05725d15",
      "metadata": {
        "id": "05725d15"
      },
      "outputs": [],
      "source": [
        "q1, q3 = np.percentile(data['radius_mean'], [25, 75])#Finding the first quartile and 3 rd quartile"
      ]
    },
    {
      "cell_type": "code",
      "execution_count": null,
      "id": "27370df1",
      "metadata": {
        "id": "27370df1"
      },
      "outputs": [],
      "source": [
        "outlier_cutoff = 1.5 * Radius_mean_IQR#The cut off is 1.5 times the IQR\n",
        "lower_cutoff = q1 - outlier_cutoff#Lower Cut off is the difference between the Q1 and outlier cut off\n",
        "upper_cutoff = q3 + outlier_cutoff#Upper Cut off is the su of  the Q3 and outlier cut off"
      ]
    },
    {
      "cell_type": "markdown",
      "id": "3ec39a5e",
      "metadata": {
        "id": "3ec39a5e"
      },
      "source": [
        "Inference: Any values below the lower cut off or above the upper cut off will be considered as outlier"
      ]
    },
    {
      "cell_type": "code",
      "execution_count": null,
      "id": "cc75a06a",
      "metadata": {
        "id": "cc75a06a",
        "outputId": "278851fe-27f5-46cf-b126-5a1049194427"
      },
      "outputs": [
        {
          "name": "stdout",
          "output_type": "stream",
          "text": [
            "18\n"
          ]
        },
        {
          "data": {
            "text/plain": [
              "0.03163444639718805"
            ]
          },
          "execution_count": 23,
          "metadata": {},
          "output_type": "execute_result"
        }
      ],
      "source": [
        "Radius_mean_outliers = len([x for x in data['radius_mean'] if x < lower_cutoff or x > upper_cutoff])#Findging the outliers\n",
        "print(Radius_mean_outliers)\n",
        "Radius_mean_outliers/len(data['radius_mean'])\n"
      ]
    },
    {
      "cell_type": "markdown",
      "id": "12179518",
      "metadata": {
        "id": "12179518"
      },
      "source": [
        "Inference : the number of outliers in radius_mean is 18 and that is 3.16% of the total values"
      ]
    },
    {
      "cell_type": "markdown",
      "id": "a971ab56",
      "metadata": {
        "id": "a971ab56"
      },
      "source": [
        "#### Note: *We are not removing the outliers as of now, because these maybe genuine outliers and removing them may result in loss of important information.*"
      ]
    },
    {
      "cell_type": "code",
      "execution_count": null,
      "id": "f5071c0c",
      "metadata": {
        "id": "f5071c0c",
        "outputId": "d00730b0-ab76-4553-fac8-f2ba5aa16387"
      },
      "outputs": [
        {
          "data": {
            "text/plain": [
              "id                         7.943911e+06\n",
              "radius_mean                3.860000e+00\n",
              "texture_mean               5.260000e+00\n",
              "perimeter_mean             2.806000e+01\n",
              "area_mean                  3.211000e+02\n",
              "smoothness_mean            1.723000e-02\n",
              "compactness_mean           6.108000e-02\n",
              "concavity_mean             9.010000e-02\n",
              "concave points_mean        4.787000e-02\n",
              "symmetry_mean              3.300000e-02\n",
              "fractal_dimension_mean     7.640000e-03\n",
              "radius_se                  2.343000e-01\n",
              "texture_se                 6.009000e-01\n",
              "perimeter_se               1.601000e+00\n",
              "area_se                    2.499000e+01\n",
              "smoothness_se              2.756000e-03\n",
              "compactness_se             1.716000e-02\n",
              "concavity_se               2.409000e-02\n",
              "concave points_se          6.989000e-03\n",
              "symmetry_se                7.600000e-03\n",
              "fractal_dimension_se       2.145000e-03\n",
              "radius_worst               4.960000e+00\n",
              "texture_worst              8.080000e+00\n",
              "perimeter_worst            4.079000e+01\n",
              "area_worst                 5.013000e+02\n",
              "smoothness_worst           2.640000e-02\n",
              "compactness_worst          1.765000e-01\n",
              "concavity_worst            2.573000e-01\n",
              "concave points_worst       9.082000e-02\n",
              "symmetry_worst             6.070000e-02\n",
              "fractal_dimension_worst    1.960000e-02\n",
              "dtype: float64"
            ]
          },
          "execution_count": 24,
          "metadata": {},
          "output_type": "execute_result"
        }
      ],
      "source": [
        "#Finding IQR of the every feature\n",
        "IQR = data.quantile(0.75) - data.quantile(0.25)\n",
        "IQR"
      ]
    },
    {
      "cell_type": "code",
      "execution_count": null,
      "id": "c8618fc1",
      "metadata": {
        "id": "c8618fc1",
        "outputId": "c6aed248-48f9-430c-e596-78b22511dbe5"
      },
      "outputs": [
        {
          "data": {
            "text/plain": [
              "(0.055502499999999996, 15.11)"
            ]
          },
          "execution_count": 25,
          "metadata": {},
          "output_type": "execute_result"
        }
      ],
      "source": [
        "q1, q3 = np.percentile(data.drop(['id','diagnosis'],axis=1), [25, 75]) #Finding the first quartile and 3 rd quartile\n",
        "q1,q3"
      ]
    },
    {
      "cell_type": "code",
      "execution_count": null,
      "id": "1b181e9c",
      "metadata": {
        "id": "1b181e9c"
      },
      "outputs": [],
      "source": [
        "outlier_cutoff = 1.5 * Radius_mean_IQR#The cut off is 1.5 times the IQR\n",
        "lower_cutoff = q1 - outlier_cutoff\n",
        "upper_cutoff = q3 + outlier_cutoff\n"
      ]
    },
    {
      "cell_type": "code",
      "execution_count": null,
      "id": "8fcfabe8",
      "metadata": {
        "id": "8fcfabe8"
      },
      "outputs": [],
      "source": [
        "data_outliers = data.drop(['id','diagnosis'],axis=1)#We are dropping the ID column and the diagnosis column so we can find the outliers of all other features at once\n",
        "\n"
      ]
    },
    {
      "cell_type": "code",
      "execution_count": null,
      "id": "db4d6c17",
      "metadata": {
        "id": "db4d6c17"
      },
      "outputs": [],
      "source": [
        "#Finding the outliers in every feature of the data frame\n",
        "q1 = data_outliers.quantile(0.25)\n",
        "q3 = data_outliers.quantile(0.75)\n",
        "\n",
        "iqr = q3 - q1\n",
        "lower_cutoff = q1 - 1.5*iqr\n",
        "upper_cutoff = q3 + 1.5*iqr\n",
        "outliers = data_outliers.apply(lambda x: x[(x < lower_cutoff[x.name]) | (x > upper_cutoff[x.name])], axis=0)"
      ]
    },
    {
      "cell_type": "code",
      "execution_count": null,
      "id": "00885dc3",
      "metadata": {
        "id": "00885dc3",
        "outputId": "49b185d9-e345-4d9c-9f67-4b8603cb902c"
      },
      "outputs": [
        {
          "data": {
            "text/plain": [
              "radius_mean                18\n",
              "texture_mean                8\n",
              "perimeter_mean             15\n",
              "area_mean                  44\n",
              "smoothness_mean             9\n",
              "compactness_mean           22\n",
              "concavity_mean             20\n",
              "concave points_mean        19\n",
              "symmetry_mean              16\n",
              "fractal_dimension_mean     23\n",
              "radius_se                  44\n",
              "texture_se                 20\n",
              "perimeter_se               42\n",
              "area_se                    65\n",
              "smoothness_se              30\n",
              "compactness_se             35\n",
              "concavity_se               31\n",
              "concave points_se          19\n",
              "symmetry_se                30\n",
              "fractal_dimension_se       31\n",
              "radius_worst               28\n",
              "texture_worst               8\n",
              "perimeter_worst            16\n",
              "area_worst                 45\n",
              "smoothness_worst           15\n",
              "compactness_worst          22\n",
              "concavity_worst            13\n",
              "concave points_worst        0\n",
              "symmetry_worst             28\n",
              "fractal_dimension_worst    22\n",
              "dtype: int64"
            ]
          },
          "execution_count": 29,
          "metadata": {},
          "output_type": "execute_result"
        }
      ],
      "source": [
        "(len(outliers)-outliers.isnull().sum())#Finding the number of outliers in every feature"
      ]
    },
    {
      "cell_type": "code",
      "execution_count": null,
      "id": "532c006f",
      "metadata": {
        "id": "532c006f",
        "outputId": "394952f1-4b1c-412a-c154-fae943563c59"
      },
      "outputs": [
        {
          "data": {
            "text/plain": [
              "Text(0, 0.5, 'Radius Mean')"
            ]
          },
          "execution_count": 30,
          "metadata": {},
          "output_type": "execute_result"
        },
        {
          "data": {
            "image/png": "[encoded data removed]",
            "text/plain": [
              "<Figure size 432x288 with 1 Axes>"
            ]
          },
          "metadata": {
            "needs_background": "light"
          },
          "output_type": "display_data"
        }
      ],
      "source": [
        "#Histogram of radius mean\n",
        "ax = (data['radius_mean']).plot.hist()\n",
        "ax.set_ylabel(\"Radius Mean\")"
      ]
    },
    {
      "cell_type": "code",
      "execution_count": null,
      "id": "5f731796",
      "metadata": {
        "id": "5f731796",
        "outputId": "5a926b55-ac54-403c-efeb-e09d75530969"
      },
      "outputs": [
        {
          "data": {
            "text/plain": [
              "Text(0, 0.5, 'texture_mean ')"
            ]
          },
          "execution_count": 31,
          "metadata": {},
          "output_type": "execute_result"
        },
        {
          "data": {
            "image/png": "[encoded data removed]",
            "text/plain": [
              "<Figure size 432x288 with 1 Axes>"
            ]
          },
          "metadata": {
            "needs_background": "light"
          },
          "output_type": "display_data"
        }
      ],
      "source": [
        "#Histogram of texture mean\n",
        "ax = (data['texture_mean']).plot.hist()\n",
        "ax.set_ylabel(\"texture_mean \")"
      ]
    },
    {
      "cell_type": "code",
      "execution_count": null,
      "id": "439c5928",
      "metadata": {
        "id": "439c5928",
        "outputId": "4c0bc631-497b-4cdf-c3d5-fac56b78c939"
      },
      "outputs": [
        {
          "data": {
            "text/plain": [
              "Text(0, 0.5, 'perimeter_mean')"
            ]
          },
          "execution_count": 32,
          "metadata": {},
          "output_type": "execute_result"
        },
        {
          "data": {
            "image/png": "[encoded data removed]",
            "text/plain": [
              "<Figure size 432x288 with 1 Axes>"
            ]
          },
          "metadata": {
            "needs_background": "light"
          },
          "output_type": "display_data"
        }
      ],
      "source": [
        "#Histogram of perimeter mean\n",
        "ax = (data['perimeter_mean']).plot.hist()\n",
        "ax.set_ylabel(\"perimeter_mean\")"
      ]
    },
    {
      "cell_type": "code",
      "execution_count": null,
      "id": "7a36fa07",
      "metadata": {
        "id": "7a36fa07",
        "outputId": "b9b152fe-8a00-430e-cb80-3aba781e2983"
      },
      "outputs": [
        {
          "data": {
            "text/plain": [
              "Text(0, 0.5, 'area_mean')"
            ]
          },
          "execution_count": 33,
          "metadata": {},
          "output_type": "execute_result"
        },
        {
          "data": {
            "image/png": "[encoded data removed]",
            "text/plain": [
              "<Figure size 432x288 with 1 Axes>"
            ]
          },
          "metadata": {
            "needs_background": "light"
          },
          "output_type": "display_data"
        }
      ],
      "source": [
        "#Histogram of area mean\n",
        "ax = (data['area_mean']).plot.hist()\n",
        "ax.set_ylabel(\"area_mean\")"
      ]
    },
    {
      "cell_type": "code",
      "execution_count": null,
      "id": "60c87a28",
      "metadata": {
        "id": "60c87a28",
        "outputId": "5db294f1-c1cd-4cb4-efc2-82087f4b570d"
      },
      "outputs": [
        {
          "name": "stderr",
          "output_type": "stream",
          "text": [
            "C:\\Users\\91900\\anaconda3\\lib\\site-packages\\numpy\\lib\\histograms.py:905: RuntimeWarning: invalid value encountered in true_divide\n",
            "  return n/db/n.sum(), bin_edges\n"
          ]
        },
        {
          "data": {
            "image/png": "[encoded data removed]",
            "text/plain": [
              "<Figure size 432x288 with 1 Axes>"
            ]
          },
          "metadata": {
            "needs_background": "light"
          },
          "output_type": "display_data"
        }
      ],
      "source": [
        "#Density Plot of radius mean\n",
        "ax = (data['radius_mean']).plot.hist(density=True,bins=range(1,7))\n",
        "(data['radius_mean']).plot.density(ax=ax)\n",
        "plt.show()"
      ]
    },
    {
      "cell_type": "code",
      "execution_count": null,
      "id": "4ede9428",
      "metadata": {
        "id": "4ede9428",
        "outputId": "da1feb98-ef3d-415e-fade-43413e78b6c6"
      },
      "outputs": [
        {
          "name": "stderr",
          "output_type": "stream",
          "text": [
            "C:\\Users\\91900\\anaconda3\\lib\\site-packages\\numpy\\lib\\histograms.py:905: RuntimeWarning: invalid value encountered in true_divide\n",
            "  return n/db/n.sum(), bin_edges\n"
          ]
        },
        {
          "data": {
            "image/png": "[encoded data removed]",
            "text/plain": [
              "<Figure size 432x288 with 1 Axes>"
            ]
          },
          "metadata": {
            "needs_background": "light"
          },
          "output_type": "display_data"
        }
      ],
      "source": [
        "#Density Plot fo texture mean\n",
        "ax = (data['texture_mean']).plot.hist(density=True,bins=range(1,7))\n",
        "(data['texture_mean']).plot.density(ax=ax)\n",
        "plt.show()"
      ]
    },
    {
      "cell_type": "code",
      "execution_count": null,
      "id": "3f99cd7f",
      "metadata": {
        "id": "3f99cd7f",
        "outputId": "0cc4f772-6090-48c3-e511-b2387449156a"
      },
      "outputs": [
        {
          "data": {
            "text/plain": [
              "0    357\n",
              "1    212\n",
              "Name: diagnosis, dtype: int64"
            ]
          },
          "execution_count": 40,
          "metadata": {},
          "output_type": "execute_result"
        }
      ],
      "source": [
        "ans = data.diagnosis.value_counts()\n",
        "ans"
      ]
    },
    {
      "cell_type": "code",
      "execution_count": null,
      "id": "46196cd1",
      "metadata": {
        "id": "46196cd1",
        "outputId": "6283ed64-647f-44be-9cbf-750259d8fffd"
      },
      "outputs": [
        {
          "name": "stderr",
          "output_type": "stream",
          "text": [
            "C:\\Users\\91900\\anaconda3\\lib\\site-packages\\seaborn\\_decorators.py:36: FutureWarning: Pass the following variables as keyword args: x, y. From version 0.12, the only valid positional argument will be `data`, and passing other arguments without an explicit keyword will result in an error or misinterpretation.\n",
            "  warnings.warn(\n",
            "No handles with labels found to put in legend.\n"
          ]
        },
        {
          "data": {
            "image/png": "[encoded data removed]",
            "text/plain": [
              "<Figure size 432x288 with 1 Axes>"
            ]
          },
          "metadata": {
            "needs_background": "light"
          },
          "output_type": "display_data"
        }
      ],
      "source": [
        "#Bar plot of the feature diagnosis which is the target variable\n",
        "sns.barplot(ans.index,ans.values)\n",
        "plt.legend()\n",
        "plt.show()"
      ]
    },
    {
      "cell_type": "code",
      "execution_count": null,
      "id": "d86412a6",
      "metadata": {
        "id": "d86412a6"
      },
      "outputs": [],
      "source": [
        "#Encoding the target variable to a numerical\n",
        "from sklearn.preprocessing import LabelEncoder\n",
        "le = LabelEncoder()\n",
        "data['diagnosis'] = le.fit_transform(data['diagnosis'])"
      ]
    },
    {
      "cell_type": "code",
      "execution_count": null,
      "id": "2d0ba7e6",
      "metadata": {
        "id": "2d0ba7e6"
      },
      "outputs": [],
      "source": [
        "correlation = data.corr()#Findign the correlation of every feature"
      ]
    },
    {
      "cell_type": "code",
      "execution_count": null,
      "id": "85ff9dec",
      "metadata": {
        "id": "85ff9dec"
      },
      "outputs": [],
      "source": [
        "target = abs(correlation['diagnosis'])#Finding the correlation of every feature with the feature 'diagnosis'"
      ]
    },
    {
      "cell_type": "code",
      "execution_count": null,
      "id": "f75ccbd4",
      "metadata": {
        "id": "f75ccbd4",
        "outputId": "4e209360-52c7-44e7-d6a8-7be723c2ec18"
      },
      "outputs": [
        {
          "data": {
            "text/plain": [
              "16"
            ]
          },
          "execution_count": 45,
          "metadata": {},
          "output_type": "execute_result"
        }
      ],
      "source": [
        "relevant_features = target[target>0.5].index#Finding the relevant features that is the features which have a  absolute correlation greater than 0.5\n",
        "len(relevant_features)"
      ]
    },
    {
      "cell_type": "markdown",
      "id": "9dc48979",
      "metadata": {
        "id": "9dc48979"
      },
      "source": [
        "Inference: There are 16 features that have an absolute correlation greater than 0.5"
      ]
    },
    {
      "cell_type": "code",
      "execution_count": null,
      "id": "1b3a9268",
      "metadata": {
        "id": "1b3a9268",
        "outputId": "2af33eb7-e0c4-4ce1-81d4-0fb2fd0f8927"
      },
      "outputs": [
        {
          "data": {
            "text/html": [
              "<div>\n",
              "<style scoped>\n",
              "    .dataframe tbody tr th:only-of-type {\n",
              "        vertical-align: middle;\n",
              "    }\n",
              "\n",
              "    .dataframe tbody tr th {\n",
              "        vertical-align: top;\n",
              "    }\n",
              "\n",
              "    .dataframe thead th {\n",
              "        text-align: right;\n",
              "    }\n",
              "</style>\n",
              "<table border=\"1\" class=\"dataframe\">\n",
              "  <thead>\n",
              "    <tr style=\"text-align: right;\">\n",
              "      <th></th>\n",
              "      <th>diagnosis</th>\n",
              "      <th>radius_mean</th>\n",
              "      <th>perimeter_mean</th>\n",
              "      <th>area_mean</th>\n",
              "      <th>compactness_mean</th>\n",
              "      <th>concavity_mean</th>\n",
              "      <th>concave points_mean</th>\n",
              "      <th>radius_se</th>\n",
              "      <th>perimeter_se</th>\n",
              "      <th>area_se</th>\n",
              "      <th>radius_worst</th>\n",
              "      <th>perimeter_worst</th>\n",
              "      <th>area_worst</th>\n",
              "      <th>compactness_worst</th>\n",
              "      <th>concavity_worst</th>\n",
              "      <th>concave points_worst</th>\n",
              "    </tr>\n",
              "  </thead>\n",
              "  <tbody>\n",
              "    <tr>\n",
              "      <th>0</th>\n",
              "      <td>1</td>\n",
              "      <td>17.990000</td>\n",
              "      <td>122.800000</td>\n",
              "      <td>1001.0</td>\n",
              "      <td>0.27760</td>\n",
              "      <td>0.087063</td>\n",
              "      <td>0.147100</td>\n",
              "      <td>0.403661</td>\n",
              "      <td>8.589000</td>\n",
              "      <td>153.40</td>\n",
              "      <td>16.317518</td>\n",
              "      <td>184.60</td>\n",
              "      <td>2019.000000</td>\n",
              "      <td>0.665600</td>\n",
              "      <td>0.711900</td>\n",
              "      <td>0.265400</td>\n",
              "    </tr>\n",
              "    <tr>\n",
              "      <th>1</th>\n",
              "      <td>1</td>\n",
              "      <td>20.570000</td>\n",
              "      <td>92.084215</td>\n",
              "      <td>1326.0</td>\n",
              "      <td>0.10020</td>\n",
              "      <td>0.086900</td>\n",
              "      <td>0.070170</td>\n",
              "      <td>0.543500</td>\n",
              "      <td>2.897406</td>\n",
              "      <td>74.08</td>\n",
              "      <td>24.990000</td>\n",
              "      <td>158.80</td>\n",
              "      <td>1956.000000</td>\n",
              "      <td>0.186600</td>\n",
              "      <td>0.241600</td>\n",
              "      <td>0.186000</td>\n",
              "    </tr>\n",
              "    <tr>\n",
              "      <th>2</th>\n",
              "      <td>1</td>\n",
              "      <td>19.690000</td>\n",
              "      <td>130.000000</td>\n",
              "      <td>1203.0</td>\n",
              "      <td>0.15990</td>\n",
              "      <td>0.197400</td>\n",
              "      <td>0.127900</td>\n",
              "      <td>0.745600</td>\n",
              "      <td>4.585000</td>\n",
              "      <td>94.03</td>\n",
              "      <td>23.570000</td>\n",
              "      <td>152.50</td>\n",
              "      <td>893.560385</td>\n",
              "      <td>0.424500</td>\n",
              "      <td>0.271253</td>\n",
              "      <td>0.113338</td>\n",
              "    </tr>\n",
              "    <tr>\n",
              "      <th>3</th>\n",
              "      <td>1</td>\n",
              "      <td>14.216845</td>\n",
              "      <td>77.580000</td>\n",
              "      <td>386.1</td>\n",
              "      <td>0.28390</td>\n",
              "      <td>0.241400</td>\n",
              "      <td>0.048771</td>\n",
              "      <td>0.495600</td>\n",
              "      <td>3.445000</td>\n",
              "      <td>27.23</td>\n",
              "      <td>14.910000</td>\n",
              "      <td>98.87</td>\n",
              "      <td>567.700000</td>\n",
              "      <td>0.252812</td>\n",
              "      <td>0.686900</td>\n",
              "      <td>0.257500</td>\n",
              "    </tr>\n",
              "    <tr>\n",
              "      <th>4</th>\n",
              "      <td>1</td>\n",
              "      <td>20.290000</td>\n",
              "      <td>135.100000</td>\n",
              "      <td>1297.0</td>\n",
              "      <td>0.14570</td>\n",
              "      <td>0.198000</td>\n",
              "      <td>0.104300</td>\n",
              "      <td>0.757200</td>\n",
              "      <td>5.438000</td>\n",
              "      <td>94.44</td>\n",
              "      <td>22.540000</td>\n",
              "      <td>152.20</td>\n",
              "      <td>1575.000000</td>\n",
              "      <td>0.205000</td>\n",
              "      <td>0.400000</td>\n",
              "      <td>0.162500</td>\n",
              "    </tr>\n",
              "    <tr>\n",
              "      <th>...</th>\n",
              "      <td>...</td>\n",
              "      <td>...</td>\n",
              "      <td>...</td>\n",
              "      <td>...</td>\n",
              "      <td>...</td>\n",
              "      <td>...</td>\n",
              "      <td>...</td>\n",
              "      <td>...</td>\n",
              "      <td>...</td>\n",
              "      <td>...</td>\n",
              "      <td>...</td>\n",
              "      <td>...</td>\n",
              "      <td>...</td>\n",
              "      <td>...</td>\n",
              "      <td>...</td>\n",
              "      <td>...</td>\n",
              "    </tr>\n",
              "    <tr>\n",
              "      <th>564</th>\n",
              "      <td>1</td>\n",
              "      <td>21.560000</td>\n",
              "      <td>92.084215</td>\n",
              "      <td>1479.0</td>\n",
              "      <td>0.11590</td>\n",
              "      <td>0.243900</td>\n",
              "      <td>0.138900</td>\n",
              "      <td>1.176000</td>\n",
              "      <td>7.673000</td>\n",
              "      <td>158.70</td>\n",
              "      <td>25.450000</td>\n",
              "      <td>166.10</td>\n",
              "      <td>893.560385</td>\n",
              "      <td>0.211300</td>\n",
              "      <td>0.410700</td>\n",
              "      <td>0.221600</td>\n",
              "    </tr>\n",
              "    <tr>\n",
              "      <th>565</th>\n",
              "      <td>1</td>\n",
              "      <td>20.130000</td>\n",
              "      <td>131.200000</td>\n",
              "      <td>1261.0</td>\n",
              "      <td>0.10340</td>\n",
              "      <td>0.144000</td>\n",
              "      <td>0.097910</td>\n",
              "      <td>0.765500</td>\n",
              "      <td>5.203000</td>\n",
              "      <td>99.04</td>\n",
              "      <td>16.317518</td>\n",
              "      <td>155.00</td>\n",
              "      <td>1731.000000</td>\n",
              "      <td>0.192200</td>\n",
              "      <td>0.321500</td>\n",
              "      <td>0.162800</td>\n",
              "    </tr>\n",
              "    <tr>\n",
              "      <th>566</th>\n",
              "      <td>1</td>\n",
              "      <td>16.600000</td>\n",
              "      <td>92.084215</td>\n",
              "      <td>858.1</td>\n",
              "      <td>0.10230</td>\n",
              "      <td>0.092510</td>\n",
              "      <td>0.053020</td>\n",
              "      <td>0.456400</td>\n",
              "      <td>3.425000</td>\n",
              "      <td>48.55</td>\n",
              "      <td>18.980000</td>\n",
              "      <td>126.70</td>\n",
              "      <td>1124.000000</td>\n",
              "      <td>0.309400</td>\n",
              "      <td>0.340300</td>\n",
              "      <td>0.141800</td>\n",
              "    </tr>\n",
              "    <tr>\n",
              "      <th>567</th>\n",
              "      <td>1</td>\n",
              "      <td>20.600000</td>\n",
              "      <td>140.100000</td>\n",
              "      <td>1265.0</td>\n",
              "      <td>0.27700</td>\n",
              "      <td>0.351400</td>\n",
              "      <td>0.152000</td>\n",
              "      <td>0.726000</td>\n",
              "      <td>5.772000</td>\n",
              "      <td>86.22</td>\n",
              "      <td>25.740000</td>\n",
              "      <td>184.60</td>\n",
              "      <td>1821.000000</td>\n",
              "      <td>0.868100</td>\n",
              "      <td>0.938700</td>\n",
              "      <td>0.113338</td>\n",
              "    </tr>\n",
              "    <tr>\n",
              "      <th>568</th>\n",
              "      <td>0</td>\n",
              "      <td>7.760000</td>\n",
              "      <td>92.084215</td>\n",
              "      <td>181.0</td>\n",
              "      <td>0.04362</td>\n",
              "      <td>0.000000</td>\n",
              "      <td>0.000000</td>\n",
              "      <td>0.385700</td>\n",
              "      <td>2.548000</td>\n",
              "      <td>19.15</td>\n",
              "      <td>9.456000</td>\n",
              "      <td>59.16</td>\n",
              "      <td>268.600000</td>\n",
              "      <td>0.064440</td>\n",
              "      <td>0.000000</td>\n",
              "      <td>0.000000</td>\n",
              "    </tr>\n",
              "  </tbody>\n",
              "</table>\n",
              "<p>569 rows × 16 columns</p>\n",
              "</div>"
            ],
            "text/plain": [
              "     diagnosis  radius_mean  perimeter_mean  area_mean  compactness_mean  \\\n",
              "0            1    17.990000      122.800000     1001.0           0.27760   \n",
              "1            1    20.570000       92.084215     1326.0           0.10020   \n",
              "2            1    19.690000      130.000000     1203.0           0.15990   \n",
              "3            1    14.216845       77.580000      386.1           0.28390   \n",
              "4            1    20.290000      135.100000     1297.0           0.14570   \n",
              "..         ...          ...             ...        ...               ...   \n",
              "564          1    21.560000       92.084215     1479.0           0.11590   \n",
              "565          1    20.130000      131.200000     1261.0           0.10340   \n",
              "566          1    16.600000       92.084215      858.1           0.10230   \n",
              "567          1    20.600000      140.100000     1265.0           0.27700   \n",
              "568          0     7.760000       92.084215      181.0           0.04362   \n",
              "\n",
              "     concavity_mean  concave points_mean  radius_se  perimeter_se  area_se  \\\n",
              "0          0.087063             0.147100   0.403661      8.589000   153.40   \n",
              "1          0.086900             0.070170   0.543500      2.897406    74.08   \n",
              "2          0.197400             0.127900   0.745600      4.585000    94.03   \n",
              "3          0.241400             0.048771   0.495600      3.445000    27.23   \n",
              "4          0.198000             0.104300   0.757200      5.438000    94.44   \n",
              "..              ...                  ...        ...           ...      ...   \n",
              "564        0.243900             0.138900   1.176000      7.673000   158.70   \n",
              "565        0.144000             0.097910   0.765500      5.203000    99.04   \n",
              "566        0.092510             0.053020   0.456400      3.425000    48.55   \n",
              "567        0.351400             0.152000   0.726000      5.772000    86.22   \n",
              "568        0.000000             0.000000   0.385700      2.548000    19.15   \n",
              "\n",
              "     radius_worst  perimeter_worst   area_worst  compactness_worst  \\\n",
              "0       16.317518           184.60  2019.000000           0.665600   \n",
              "1       24.990000           158.80  1956.000000           0.186600   \n",
              "2       23.570000           152.50   893.560385           0.424500   \n",
              "3       14.910000            98.87   567.700000           0.252812   \n",
              "4       22.540000           152.20  1575.000000           0.205000   \n",
              "..            ...              ...          ...                ...   \n",
              "564     25.450000           166.10   893.560385           0.211300   \n",
              "565     16.317518           155.00  1731.000000           0.192200   \n",
              "566     18.980000           126.70  1124.000000           0.309400   \n",
              "567     25.740000           184.60  1821.000000           0.868100   \n",
              "568      9.456000            59.16   268.600000           0.064440   \n",
              "\n",
              "     concavity_worst  concave points_worst  \n",
              "0           0.711900              0.265400  \n",
              "1           0.241600              0.186000  \n",
              "2           0.271253              0.113338  \n",
              "3           0.686900              0.257500  \n",
              "4           0.400000              0.162500  \n",
              "..               ...                   ...  \n",
              "564         0.410700              0.221600  \n",
              "565         0.321500              0.162800  \n",
              "566         0.340300              0.141800  \n",
              "567         0.938700              0.113338  \n",
              "568         0.000000              0.000000  \n",
              "\n",
              "[569 rows x 16 columns]"
            ]
          },
          "execution_count": 46,
          "metadata": {},
          "output_type": "execute_result"
        }
      ],
      "source": [
        "df = data[relevant_features] #Creating a new dataframe from 'data' which contains only relevant features\n",
        "df"
      ]
    },
    {
      "cell_type": "code",
      "execution_count": null,
      "id": "a99c0ab7",
      "metadata": {
        "id": "a99c0ab7"
      },
      "outputs": [],
      "source": [
        "y = df['diagnosis']#Saving the target variable\n",
        "df = df.drop('diagnosis',axis=1)#Dropping the the target variable"
      ]
    },
    {
      "cell_type": "code",
      "execution_count": null,
      "id": "d9bfa636",
      "metadata": {
        "id": "d9bfa636",
        "outputId": "5ca11eb8-0392-405a-dc9e-6ff664cee8d8"
      },
      "outputs": [
        {
          "data": {
            "text/plain": [
              "Index(['radius_mean', 'perimeter_mean', 'area_mean', 'compactness_mean',\n",
              "       'concavity_mean', 'concave points_mean', 'radius_se', 'perimeter_se',\n",
              "       'area_se', 'radius_worst', 'perimeter_worst', 'area_worst',\n",
              "       'compactness_worst', 'concavity_worst', 'concave points_worst'],\n",
              "      dtype='object')"
            ]
          },
          "execution_count": 48,
          "metadata": {},
          "output_type": "execute_result"
        }
      ],
      "source": [
        "multi = df.corr()\n",
        "multicolinear  = multi[multi>0.5].index#Finding the relevant features that is the features which have a  absolute correlation greater than 0.5\n",
        "multicolinear"
      ]
    },
    {
      "cell_type": "markdown",
      "id": "1035ff26",
      "metadata": {
        "id": "1035ff26"
      },
      "source": [
        "Inference: We can see that there are features with multicolienarity . So we should use PCA to reduce the dimension and hence remove multicolinearity. Before doing PCA we should stanfardize the features so they will have same variance."
      ]
    },
    {
      "cell_type": "code",
      "execution_count": null,
      "id": "35176448",
      "metadata": {
        "id": "35176448"
      },
      "outputs": [],
      "source": [
        "#Scaling the data\n",
        "from sklearn.preprocessing import StandardScaler\n",
        "\n",
        "# Scale the independent variables\n",
        "scaler = StandardScaler()\n",
        "X_scaled = scaler.fit_transform(df)\n"
      ]
    },
    {
      "cell_type": "code",
      "execution_count": null,
      "id": "62c08f76",
      "metadata": {
        "id": "62c08f76",
        "outputId": "14f89cce-9f3a-4e9d-ac9d-bf623c5b3712"
      },
      "outputs": [
        {
          "data": {
            "text/html": [
              "<div>\n",
              "<style scoped>\n",
              "    .dataframe tbody tr th:only-of-type {\n",
              "        vertical-align: middle;\n",
              "    }\n",
              "\n",
              "    .dataframe tbody tr th {\n",
              "        vertical-align: top;\n",
              "    }\n",
              "\n",
              "    .dataframe thead th {\n",
              "        text-align: right;\n",
              "    }\n",
              "</style>\n",
              "<table border=\"1\" class=\"dataframe\">\n",
              "  <thead>\n",
              "    <tr style=\"text-align: right;\">\n",
              "      <th></th>\n",
              "      <th>0</th>\n",
              "      <th>1</th>\n",
              "      <th>2</th>\n",
              "      <th>3</th>\n",
              "      <th>4</th>\n",
              "      <th>5</th>\n",
              "      <th>6</th>\n",
              "      <th>7</th>\n",
              "      <th>8</th>\n",
              "      <th>9</th>\n",
              "      <th>10</th>\n",
              "      <th>11</th>\n",
              "      <th>12</th>\n",
              "      <th>13</th>\n",
              "      <th>14</th>\n",
              "    </tr>\n",
              "  </thead>\n",
              "  <tbody>\n",
              "    <tr>\n",
              "      <th>0</th>\n",
              "      <td>1.094114e+00</td>\n",
              "      <td>1.289806e+00</td>\n",
              "      <td>1.036308</td>\n",
              "      <td>3.383696</td>\n",
              "      <td>7.276517e-16</td>\n",
              "      <td>2.584342e+00</td>\n",
              "      <td>8.095870e-16</td>\n",
              "      <td>2.865628e+00</td>\n",
              "      <td>2.525064</td>\n",
              "      <td>-1.546191e-15</td>\n",
              "      <td>2.330668</td>\n",
              "      <td>2.021871</td>\n",
              "      <td>2.709223e+00</td>\n",
              "      <td>2.173580e+00</td>\n",
              "      <td>2.417151e+00</td>\n",
              "    </tr>\n",
              "    <tr>\n",
              "      <th>1</th>\n",
              "      <td>1.842245e+00</td>\n",
              "      <td>2.386949e-15</td>\n",
              "      <td>1.994702</td>\n",
              "      <td>-0.093655</td>\n",
              "      <td>-2.138851e-03</td>\n",
              "      <td>5.624235e-01</td>\n",
              "      <td>5.098597e-01</td>\n",
              "      <td>-1.788736e-15</td>\n",
              "      <td>0.755447</td>\n",
              "      <td>1.887193e+00</td>\n",
              "      <td>1.555301</td>\n",
              "      <td>1.908690</td>\n",
              "      <td>-4.345669e-01</td>\n",
              "      <td>-1.462687e-01</td>\n",
              "      <td>1.155019e+00</td>\n",
              "    </tr>\n",
              "    <tr>\n",
              "      <th>2</th>\n",
              "      <td>1.587069e+00</td>\n",
              "      <td>1.592146e+00</td>\n",
              "      <td>1.631987</td>\n",
              "      <td>1.076570</td>\n",
              "      <td>1.446318e+00</td>\n",
              "      <td>2.079716e+00</td>\n",
              "      <td>1.246727e+00</td>\n",
              "      <td>8.496772e-01</td>\n",
              "      <td>1.200528</td>\n",
              "      <td>1.578191e+00</td>\n",
              "      <td>1.365968</td>\n",
              "      <td>0.000000</td>\n",
              "      <td>1.126827e+00</td>\n",
              "      <td>-2.738199e-16</td>\n",
              "      <td>2.205994e-16</td>\n",
              "    </tr>\n",
              "    <tr>\n",
              "      <th>3</th>\n",
              "      <td>1.545288e-15</td>\n",
              "      <td>-6.090559e-01</td>\n",
              "      <td>-0.776975</td>\n",
              "      <td>3.507187</td>\n",
              "      <td>2.023079e+00</td>\n",
              "      <td>-1.458976e-15</td>\n",
              "      <td>3.352136e-01</td>\n",
              "      <td>2.757051e-01</td>\n",
              "      <td>-0.289770</td>\n",
              "      <td>-3.062858e-01</td>\n",
              "      <td>-0.245772</td>\n",
              "      <td>-0.585414</td>\n",
              "      <td>1.457331e-15</td>\n",
              "      <td>2.050263e+00</td>\n",
              "      <td>2.291573e+00</td>\n",
              "    </tr>\n",
              "    <tr>\n",
              "      <th>4</th>\n",
              "      <td>1.761053e+00</td>\n",
              "      <td>1.806304e+00</td>\n",
              "      <td>1.909184</td>\n",
              "      <td>0.798225</td>\n",
              "      <td>1.454183e+00</td>\n",
              "      <td>1.459448e+00</td>\n",
              "      <td>1.289022e+00</td>\n",
              "      <td>1.279149e+00</td>\n",
              "      <td>1.209675</td>\n",
              "      <td>1.354056e+00</td>\n",
              "      <td>1.356952</td>\n",
              "      <td>1.224218</td>\n",
              "      <td>-3.138034e-01</td>\n",
              "      <td>6.350710e-01</td>\n",
              "      <td>7.814663e-01</td>\n",
              "    </tr>\n",
              "  </tbody>\n",
              "</table>\n",
              "</div>"
            ],
            "text/plain": [
              "             0             1         2         3             4             5   \\\n",
              "0  1.094114e+00  1.289806e+00  1.036308  3.383696  7.276517e-16  2.584342e+00   \n",
              "1  1.842245e+00  2.386949e-15  1.994702 -0.093655 -2.138851e-03  5.624235e-01   \n",
              "2  1.587069e+00  1.592146e+00  1.631987  1.076570  1.446318e+00  2.079716e+00   \n",
              "3  1.545288e-15 -6.090559e-01 -0.776975  3.507187  2.023079e+00 -1.458976e-15   \n",
              "4  1.761053e+00  1.806304e+00  1.909184  0.798225  1.454183e+00  1.459448e+00   \n",
              "\n",
              "             6             7         8             9         10        11  \\\n",
              "0  8.095870e-16  2.865628e+00  2.525064 -1.546191e-15  2.330668  2.021871   \n",
              "1  5.098597e-01 -1.788736e-15  0.755447  1.887193e+00  1.555301  1.908690   \n",
              "2  1.246727e+00  8.496772e-01  1.200528  1.578191e+00  1.365968  0.000000   \n",
              "3  3.352136e-01  2.757051e-01 -0.289770 -3.062858e-01 -0.245772 -0.585414   \n",
              "4  1.289022e+00  1.279149e+00  1.209675  1.354056e+00  1.356952  1.224218   \n",
              "\n",
              "             12            13            14  \n",
              "0  2.709223e+00  2.173580e+00  2.417151e+00  \n",
              "1 -4.345669e-01 -1.462687e-01  1.155019e+00  \n",
              "2  1.126827e+00 -2.738199e-16  2.205994e-16  \n",
              "3  1.457331e-15  2.050263e+00  2.291573e+00  \n",
              "4 -3.138034e-01  6.350710e-01  7.814663e-01  "
            ]
          },
          "execution_count": 50,
          "metadata": {},
          "output_type": "execute_result"
        }
      ],
      "source": [
        "#After scaling the resulting data structure will be a numpy array. So we are converting it back to dataframe\n",
        "X = pd.DataFrame(X_scaled)\n",
        "X.head()"
      ]
    },
    {
      "cell_type": "code",
      "execution_count": null,
      "id": "f4ae3fbc",
      "metadata": {
        "id": "f4ae3fbc",
        "outputId": "a01d446e-3b3a-4c24-bb9d-e12d7a8e10b7"
      },
      "outputs": [
        {
          "data": {
            "text/plain": [
              "array([[ 0.28025288,  0.28414075,  0.27549136,  0.21869128,  0.25852858,\n",
              "         0.28305042,  0.24246374,  0.24500398,  0.24646313,  0.2764187 ,\n",
              "         0.29100143,  0.27885353,  0.18904781,  0.21872652,  0.26087919],\n",
              "       [ 0.15304849,  0.12703675,  0.19233298, -0.38028353, -0.25012608,\n",
              "        -0.1129544 ,  0.25706867,  0.21113261,  0.26762212,  0.13047711,\n",
              "         0.09650624,  0.17564531, -0.47679403, -0.42318524, -0.24003823],\n",
              "       [-0.26933894, -0.24632553, -0.21215474,  0.20420022,  0.15381659,\n",
              "         0.01119767,  0.45490352,  0.47978197,  0.38448483, -0.27606291,\n",
              "        -0.21505305, -0.1785419 ,  0.03957473,  0.02929505, -0.12071175],\n",
              "       [ 0.1470799 ,  0.14762195,  0.11796032,  0.30160804,  0.43069064,\n",
              "         0.42912989, -0.06718215, -0.11874158, -0.15041749, -0.15825774,\n",
              "        -0.15872171, -0.21029468, -0.53672236, -0.14034132, -0.19641635],\n",
              "       [-0.038082  , -0.11377359, -0.03642998, -0.61947854,  0.44165377,\n",
              "        -0.05864069,  0.05540726, -0.04864666,  0.03646393,  0.09225592,\n",
              "        -0.06977743, -0.00991925, -0.24928807,  0.5653379 ,  0.00563315]])"
            ]
          },
          "execution_count": 51,
          "metadata": {},
          "output_type": "execute_result"
        }
      ],
      "source": [
        "from sklearn.decomposition import PCA\n",
        "\n",
        "# Apply PCA to the scaled independent variables\n",
        "pca = PCA(n_components=5)\n",
        "pca.fit(X)\n",
        "\n",
        "# Get the principal components\n",
        "components = pca.components_\n",
        "\n",
        "# Get the explained variance ratios\n",
        "explained_variance_ratios = pca.explained_variance_ratio_\n",
        "components"
      ]
    },
    {
      "cell_type": "code",
      "execution_count": null,
      "id": "f924f384",
      "metadata": {
        "id": "f924f384",
        "outputId": "22fd4af5-90d2-490f-9d00-996418af584f"
      },
      "outputs": [
        {
          "data": {
            "text/plain": [
              "array([0.70374779, 0.1386346 , 0.06617466, 0.02085245, 0.01650623])"
            ]
          },
          "execution_count": 52,
          "metadata": {},
          "output_type": "execute_result"
        }
      ],
      "source": [
        "explained_variance_ratios"
      ]
    },
    {
      "cell_type": "code",
      "execution_count": null,
      "id": "7d2b0524",
      "metadata": {
        "id": "7d2b0524"
      },
      "outputs": [],
      "source": [
        "X_transformed =  pca.transform(X_scaled)#Transforming using PCA\n",
        "\n",
        "X_transformed = pd.DataFrame(X_transformed)"
      ]
    },
    {
      "cell_type": "code",
      "execution_count": null,
      "id": "c3946bf0",
      "metadata": {
        "id": "c3946bf0"
      },
      "outputs": [],
      "source": [
        "#X_transformed.to_csv(\"BreastCancerPredictionEDA.csv\")"
      ]
    },
    {
      "cell_type": "markdown",
      "id": "1fc90969",
      "metadata": {
        "id": "1fc90969"
      },
      "source": [
        "# Model Building\n",
        "\n",
        "# 1. Naive Bayes Classifier"
      ]
    },
    {
      "cell_type": "code",
      "execution_count": null,
      "id": "cf463e53",
      "metadata": {
        "id": "cf463e53"
      },
      "outputs": [],
      "source": [
        "from sklearn.model_selection import train_test_split"
      ]
    },
    {
      "cell_type": "code",
      "execution_count": null,
      "id": "b18be3b6",
      "metadata": {
        "id": "b18be3b6"
      },
      "outputs": [],
      "source": [
        "X_train, X_test, y_train, y_test = train_test_split(X_transformed, y, test_size=0.2, random_state=42)\n"
      ]
    },
    {
      "cell_type": "code",
      "execution_count": null,
      "id": "2cf84282",
      "metadata": {
        "id": "2cf84282",
        "outputId": "898f3c61-d837-490a-a5af-932ecad8ab0b"
      },
      "outputs": [
        {
          "data": {
            "text/html": [
              "<style>#sk-container-id-1 {color: black;background-color: white;}#sk-container-id-1 pre{padding: 0;}#sk-container-id-1 div.sk-toggleable {background-color: white;}#sk-container-id-1 label.sk-toggleable__label {cursor: pointer;display: block;width: 100%;margin-bottom: 0;padding: 0.3em;box-sizing: border-box;text-align: center;}#sk-container-id-1 label.sk-toggleable__label-arrow:before {content: \"▸\";float: left;margin-right: 0.25em;color: #696969;}#sk-container-id-1 label.sk-toggleable__label-arrow:hover:before {color: black;}#sk-container-id-1 div.sk-estimator:hover label.sk-toggleable__label-arrow:before {color: black;}#sk-container-id-1 div.sk-toggleable__content {max-height: 0;max-width: 0;overflow: hidden;text-align: left;background-color: #f0f8ff;}#sk-container-id-1 div.sk-toggleable__content pre {margin: 0.2em;color: black;border-radius: 0.25em;background-color: #f0f8ff;}#sk-container-id-1 input.sk-toggleable__control:checked~div.sk-toggleable__content {max-height: 200px;max-width: 100%;overflow: auto;}#sk-container-id-1 input.sk-toggleable__control:checked~label.sk-toggleable__label-arrow:before {content: \"▾\";}#sk-container-id-1 div.sk-estimator input.sk-toggleable__control:checked~label.sk-toggleable__label {background-color: #d4ebff;}#sk-container-id-1 div.sk-label input.sk-toggleable__control:checked~label.sk-toggleable__label {background-color: #d4ebff;}#sk-container-id-1 input.sk-hidden--visually {border: 0;clip: rect(1px 1px 1px 1px);clip: rect(1px, 1px, 1px, 1px);height: 1px;margin: -1px;overflow: hidden;padding: 0;position: absolute;width: 1px;}#sk-container-id-1 div.sk-estimator {font-family: monospace;background-color: #f0f8ff;border: 1px dotted black;border-radius: 0.25em;box-sizing: border-box;margin-bottom: 0.5em;}#sk-container-id-1 div.sk-estimator:hover {background-color: #d4ebff;}#sk-container-id-1 div.sk-parallel-item::after {content: \"\";width: 100%;border-bottom: 1px solid gray;flex-grow: 1;}#sk-container-id-1 div.sk-label:hover label.sk-toggleable__label {background-color: #d4ebff;}#sk-container-id-1 div.sk-serial::before {content: \"\";position: absolute;border-left: 1px solid gray;box-sizing: border-box;top: 0;bottom: 0;left: 50%;z-index: 0;}#sk-container-id-1 div.sk-serial {display: flex;flex-direction: column;align-items: center;background-color: white;padding-right: 0.2em;padding-left: 0.2em;position: relative;}#sk-container-id-1 div.sk-item {position: relative;z-index: 1;}#sk-container-id-1 div.sk-parallel {display: flex;align-items: stretch;justify-content: center;background-color: white;position: relative;}#sk-container-id-1 div.sk-item::before, #sk-container-id-1 div.sk-parallel-item::before {content: \"\";position: absolute;border-left: 1px solid gray;box-sizing: border-box;top: 0;bottom: 0;left: 50%;z-index: -1;}#sk-container-id-1 div.sk-parallel-item {display: flex;flex-direction: column;z-index: 1;position: relative;background-color: white;}#sk-container-id-1 div.sk-parallel-item:first-child::after {align-self: flex-end;width: 50%;}#sk-container-id-1 div.sk-parallel-item:last-child::after {align-self: flex-start;width: 50%;}#sk-container-id-1 div.sk-parallel-item:only-child::after {width: 0;}#sk-container-id-1 div.sk-dashed-wrapped {border: 1px dashed gray;margin: 0 0.4em 0.5em 0.4em;box-sizing: border-box;padding-bottom: 0.4em;background-color: white;}#sk-container-id-1 div.sk-label label {font-family: monospace;font-weight: bold;display: inline-block;line-height: 1.2em;}#sk-container-id-1 div.sk-label-container {text-align: center;}#sk-container-id-1 div.sk-container {/* jupyter's `normalize.less` sets `[hidden] { display: none; }` but bootstrap.min.css set `[hidden] { display: none !important; }` so we also need the `!important` here to be able to override the default hidden behavior on the sphinx rendered scikit-learn.org. See: https://github.com/scikit-learn/scikit-learn/issues/21755 */display: inline-block !important;position: relative;}#sk-container-id-1 div.sk-text-repr-fallback {display: none;}</style><div id=\"sk-container-id-1\" class=\"sk-top-container\"><div class=\"sk-text-repr-fallback\"><pre>GaussianNB()</pre><b>In a Jupyter environment, please rerun this cell to show the HTML representation or trust the notebook. <br />On GitHub, the HTML representation is unable to render, please try loading this page with nbviewer.org.</b></div><div class=\"sk-container\" hidden><div class=\"sk-item\"><div class=\"sk-estimator sk-toggleable\"><input class=\"sk-toggleable__control sk-hidden--visually\" id=\"sk-estimator-id-1\" type=\"checkbox\" checked><label for=\"sk-estimator-id-1\" class=\"sk-toggleable__label sk-toggleable__label-arrow\">GaussianNB</label><div class=\"sk-toggleable__content\"><pre>GaussianNB()</pre></div></div></div></div></div>"
            ],
            "text/plain": [
              "GaussianNB()"
            ]
          },
          "execution_count": 57,
          "metadata": {},
          "output_type": "execute_result"
        }
      ],
      "source": [
        "from sklearn.naive_bayes import GaussianNB\n",
        "\n",
        "# Train a Naive Bayes classifier on the training set\n",
        "classifier_nb = GaussianNB()\n",
        "classifier_nb.fit(X_train, y_train.ravel())\n"
      ]
    },
    {
      "cell_type": "code",
      "execution_count": null,
      "id": "d5d4756d",
      "metadata": {
        "id": "d5d4756d"
      },
      "outputs": [],
      "source": [
        "predictions = classifier_nb.predict(X_test)"
      ]
    },
    {
      "cell_type": "code",
      "execution_count": null,
      "id": "e6c99b37",
      "metadata": {
        "id": "e6c99b37",
        "outputId": "3e8945f8-c0bd-44c9-bdc8-0e6aa8007acd"
      },
      "outputs": [
        {
          "name": "stdout",
          "output_type": "stream",
          "text": [
            "Accuracy for the naive bayes classifier is: 95.6140350877193 %\n"
          ]
        }
      ],
      "source": [
        "from sklearn.metrics import accuracy_score, precision_score, recall_score, f1_score\n",
        "\n",
        "# Calculate accuracy\n",
        "accuracy = accuracy_score(y_test, predictions)\n",
        "\n",
        "# Calculate precision\n",
        "precision = precision_score(y_test, predictions)\n",
        "\n",
        "# Calculate recall\n",
        "recall = recall_score(y_test, predictions)\n",
        "\n",
        "# Calculate F1 score\n",
        "f1 = f1_score(y_test, predictions)\n",
        "\n",
        "# Display the evaluation metrics\n",
        "print('Accuracy for the naive bayes classifier is:', accuracy*100 , '%')\n",
        "\n"
      ]
    },
    {
      "cell_type": "code",
      "execution_count": null,
      "id": "96d83bd3",
      "metadata": {
        "id": "96d83bd3",
        "outputId": "c0ae91a2-37da-44c6-9a11-6320217caa15"
      },
      "outputs": [
        {
          "name": "stdout",
          "output_type": "stream",
          "text": [
            "CV:  0.9030917874396136\n",
            "Training set:  0.9032967032967033\n",
            "Test set:  0.956140350877193\n"
          ]
        }
      ],
      "source": [
        "# Predicting Cross Validation Score\n",
        "from sklearn import datasets, linear_model\n",
        "from sklearn.model_selection import cross_val_score\n",
        "cv_nb = cross_val_score(estimator = classifier_nb, X = X_train, y = y_train.ravel(), cv = 10)\n",
        "print(\"CV: \", cv_nb.mean())\n",
        "\n",
        "y_pred_nb_train = classifier_nb.predict(X_train)\n",
        "accuracy_nb_train = accuracy_score(y_train, y_pred_nb_train)\n",
        "print(\"Training set: \", accuracy_nb_train)\n",
        "\n",
        "y_pred_nb_test = classifier_nb.predict(X_test)\n",
        "accuracy_nb_test = accuracy_score(y_test, y_pred_nb_test)\n",
        "print(\"Test set: \", accuracy_nb_test)"
      ]
    },
    {
      "cell_type": "code",
      "execution_count": null,
      "id": "d331c332",
      "metadata": {
        "id": "d331c332"
      },
      "outputs": [],
      "source": [
        "from sklearn.metrics import confusion_matrix , classification_report , accuracy_score\n",
        "tp_nb = confusion_matrix(y_test, y_pred_nb_test)[0,0]\n",
        "fp_nb = confusion_matrix(y_test, y_pred_nb_test)[0,1]\n",
        "tn_nb = confusion_matrix(y_test, y_pred_nb_test)[1,1]\n",
        "fn_nb = confusion_matrix(y_test, y_pred_nb_test)[1,0]"
      ]
    },
    {
      "cell_type": "code",
      "execution_count": null,
      "id": "3b2caf93",
      "metadata": {
        "id": "3b2caf93",
        "outputId": "cf5e38eb-f8de-440d-b6d1-2d40a9d62787"
      },
      "outputs": [
        {
          "data": {
            "text/plain": [
              "array([[70,  1],\n",
              "       [ 4, 39]], dtype=int64)"
            ]
          },
          "execution_count": 77,
          "metadata": {},
          "output_type": "execute_result"
        }
      ],
      "source": [
        "confusion_matrix(y_test, y_pred_nb_test)"
      ]
    },
    {
      "cell_type": "code",
      "execution_count": null,
      "id": "2aa0e8c0",
      "metadata": {
        "id": "2aa0e8c0",
        "outputId": "e52957ed-790c-459a-cbf0-0334f9ff1819"
      },
      "outputs": [
        {
          "name": "stderr",
          "output_type": "stream",
          "text": [
            "C:\\Users\\91900\\anaconda3\\lib\\site-packages\\sklearn\\utils\\deprecation.py:87: FutureWarning: Function plot_confusion_matrix is deprecated; Function `plot_confusion_matrix` is deprecated in 1.0 and will be removed in 1.2. Use one of the class methods: ConfusionMatrixDisplay.from_predictions or ConfusionMatrixDisplay.from_estimator.\n",
            "  warnings.warn(msg, category=FutureWarning)\n"
          ]
        },
        {
          "data": {
            "image/png": "[encoded data removed]",
            "text/plain": [
              "<Figure size 432x288 with 2 Axes>"
            ]
          },
          "metadata": {
            "needs_background": "light"
          },
          "output_type": "display_data"
        }
      ],
      "source": [
        "from sklearn.metrics import plot_confusion_matrix\n",
        "\n",
        "# Compute the confusion matrix\n",
        "cm = confusion_matrix(y_test, predictions)\n",
        "\n",
        "# Plot the confusion matrix\n",
        "plot_confusion_matrix(classifier_nb, X_test, y_test)\n",
        "plt.show()\n"
      ]
    },
    {
      "cell_type": "code",
      "execution_count": null,
      "id": "1446a61c",
      "metadata": {
        "id": "1446a61c",
        "outputId": "7e97fa92-e0b6-4f5f-aa37-2c8a41eca8a4"
      },
      "outputs": [
        {
          "name": "stderr",
          "output_type": "stream",
          "text": [
            "C:\\Users\\91900\\anaconda3\\lib\\site-packages\\sklearn\\utils\\deprecation.py:87: FutureWarning: Function plot_roc_curve is deprecated; Function :func:`plot_roc_curve` is deprecated in 1.0 and will be removed in 1.2. Use one of the class methods: :meth:`sklearn.metrics.RocCurveDisplay.from_predictions` or :meth:`sklearn.metrics.RocCurveDisplay.from_estimator`.\n",
            "  warnings.warn(msg, category=FutureWarning)\n"
          ]
        },
        {
          "data": {
            "image/png": "[encoded data removed]",
            "text/plain": [
              "<Figure size 432x288 with 1 Axes>"
            ]
          },
          "metadata": {
            "needs_background": "light"
          },
          "output_type": "display_data"
        }
      ],
      "source": [
        "from sklearn.metrics import roc_curve, plot_roc_curve\n",
        "\n",
        "# Compute the ROC curve\n",
        "fpr, tpr, thresholds = roc_curve(y_test, predictions)\n",
        "\n",
        "# Plot the ROC curve\n",
        "plot_roc_curve(classifier_nb, X_test, y_test)\n",
        "plt.show()\n"
      ]
    },
    {
      "cell_type": "code",
      "execution_count": null,
      "id": "02c14ac7",
      "metadata": {
        "id": "02c14ac7",
        "outputId": "b1a68329-a17f-43f8-d82d-796ba3b30844"
      },
      "outputs": [
        {
          "name": "stderr",
          "output_type": "stream",
          "text": [
            "C:\\Users\\91900\\anaconda3\\lib\\site-packages\\sklearn\\utils\\deprecation.py:87: FutureWarning: Function plot_precision_recall_curve is deprecated; Function `plot_precision_recall_curve` is deprecated in 1.0 and will be removed in 1.2. Use one of the class methods: PrecisionRecallDisplay.from_predictions or PrecisionRecallDisplay.from_estimator.\n",
            "  warnings.warn(msg, category=FutureWarning)\n"
          ]
        },
        {
          "data": {
            "image/png": "[encoded data removed]",
            "text/plain": [
              "<Figure size 432x288 with 1 Axes>"
            ]
          },
          "metadata": {
            "needs_background": "light"
          },
          "output_type": "display_data"
        }
      ],
      "source": [
        "from sklearn.metrics import precision_recall_curve, plot_precision_recall_curve\n",
        "\n",
        "# Compute the precision-recall curve\n",
        "precision, recall, thresholds = precision_recall_curve(y_test, predictions)\n",
        "\n",
        "# Plot the precision-recall curve\n",
        "plot_precision_recall_curve(classifier_nb, X_test, y_test)\n",
        "plt.show()\n"
      ]
    },
    {
      "cell_type": "markdown",
      "id": "dcf8f681",
      "metadata": {
        "id": "dcf8f681"
      },
      "source": [
        "# 2. Logistic Regression"
      ]
    },
    {
      "cell_type": "code",
      "execution_count": null,
      "id": "3c0863b2",
      "metadata": {
        "id": "3c0863b2",
        "outputId": "12ae7a78-2b53-4965-c8a2-a15bfeeda143"
      },
      "outputs": [
        {
          "data": {
            "text/html": [
              "<style>#sk-container-id-2 {color: black;background-color: white;}#sk-container-id-2 pre{padding: 0;}#sk-container-id-2 div.sk-toggleable {background-color: white;}#sk-container-id-2 label.sk-toggleable__label {cursor: pointer;display: block;width: 100%;margin-bottom: 0;padding: 0.3em;box-sizing: border-box;text-align: center;}#sk-container-id-2 label.sk-toggleable__label-arrow:before {content: \"▸\";float: left;margin-right: 0.25em;color: #696969;}#sk-container-id-2 label.sk-toggleable__label-arrow:hover:before {color: black;}#sk-container-id-2 div.sk-estimator:hover label.sk-toggleable__label-arrow:before {color: black;}#sk-container-id-2 div.sk-toggleable__content {max-height: 0;max-width: 0;overflow: hidden;text-align: left;background-color: #f0f8ff;}#sk-container-id-2 div.sk-toggleable__content pre {margin: 0.2em;color: black;border-radius: 0.25em;background-color: #f0f8ff;}#sk-container-id-2 input.sk-toggleable__control:checked~div.sk-toggleable__content {max-height: 200px;max-width: 100%;overflow: auto;}#sk-container-id-2 input.sk-toggleable__control:checked~label.sk-toggleable__label-arrow:before {content: \"▾\";}#sk-container-id-2 div.sk-estimator input.sk-toggleable__control:checked~label.sk-toggleable__label {background-color: #d4ebff;}#sk-container-id-2 div.sk-label input.sk-toggleable__control:checked~label.sk-toggleable__label {background-color: #d4ebff;}#sk-container-id-2 input.sk-hidden--visually {border: 0;clip: rect(1px 1px 1px 1px);clip: rect(1px, 1px, 1px, 1px);height: 1px;margin: -1px;overflow: hidden;padding: 0;position: absolute;width: 1px;}#sk-container-id-2 div.sk-estimator {font-family: monospace;background-color: #f0f8ff;border: 1px dotted black;border-radius: 0.25em;box-sizing: border-box;margin-bottom: 0.5em;}#sk-container-id-2 div.sk-estimator:hover {background-color: #d4ebff;}#sk-container-id-2 div.sk-parallel-item::after {content: \"\";width: 100%;border-bottom: 1px solid gray;flex-grow: 1;}#sk-container-id-2 div.sk-label:hover label.sk-toggleable__label {background-color: #d4ebff;}#sk-container-id-2 div.sk-serial::before {content: \"\";position: absolute;border-left: 1px solid gray;box-sizing: border-box;top: 0;bottom: 0;left: 50%;z-index: 0;}#sk-container-id-2 div.sk-serial {display: flex;flex-direction: column;align-items: center;background-color: white;padding-right: 0.2em;padding-left: 0.2em;position: relative;}#sk-container-id-2 div.sk-item {position: relative;z-index: 1;}#sk-container-id-2 div.sk-parallel {display: flex;align-items: stretch;justify-content: center;background-color: white;position: relative;}#sk-container-id-2 div.sk-item::before, #sk-container-id-2 div.sk-parallel-item::before {content: \"\";position: absolute;border-left: 1px solid gray;box-sizing: border-box;top: 0;bottom: 0;left: 50%;z-index: -1;}#sk-container-id-2 div.sk-parallel-item {display: flex;flex-direction: column;z-index: 1;position: relative;background-color: white;}#sk-container-id-2 div.sk-parallel-item:first-child::after {align-self: flex-end;width: 50%;}#sk-container-id-2 div.sk-parallel-item:last-child::after {align-self: flex-start;width: 50%;}#sk-container-id-2 div.sk-parallel-item:only-child::after {width: 0;}#sk-container-id-2 div.sk-dashed-wrapped {border: 1px dashed gray;margin: 0 0.4em 0.5em 0.4em;box-sizing: border-box;padding-bottom: 0.4em;background-color: white;}#sk-container-id-2 div.sk-label label {font-family: monospace;font-weight: bold;display: inline-block;line-height: 1.2em;}#sk-container-id-2 div.sk-label-container {text-align: center;}#sk-container-id-2 div.sk-container {/* jupyter's `normalize.less` sets `[hidden] { display: none; }` but bootstrap.min.css set `[hidden] { display: none !important; }` so we also need the `!important` here to be able to override the default hidden behavior on the sphinx rendered scikit-learn.org. See: https://github.com/scikit-learn/scikit-learn/issues/21755 */display: inline-block !important;position: relative;}#sk-container-id-2 div.sk-text-repr-fallback {display: none;}</style><div id=\"sk-container-id-2\" class=\"sk-top-container\"><div class=\"sk-text-repr-fallback\"><pre>LogisticRegression(C=1, max_iter=1000, solver=&#x27;liblinear&#x27;)</pre><b>In a Jupyter environment, please rerun this cell to show the HTML representation or trust the notebook. <br />On GitHub, the HTML representation is unable to render, please try loading this page with nbviewer.org.</b></div><div class=\"sk-container\" hidden><div class=\"sk-item\"><div class=\"sk-estimator sk-toggleable\"><input class=\"sk-toggleable__control sk-hidden--visually\" id=\"sk-estimator-id-2\" type=\"checkbox\" checked><label for=\"sk-estimator-id-2\" class=\"sk-toggleable__label sk-toggleable__label-arrow\">LogisticRegression</label><div class=\"sk-toggleable__content\"><pre>LogisticRegression(C=1, max_iter=1000, solver=&#x27;liblinear&#x27;)</pre></div></div></div></div></div>"
            ],
            "text/plain": [
              "LogisticRegression(C=1, max_iter=1000, solver='liblinear')"
            ]
          },
          "execution_count": 82,
          "metadata": {},
          "output_type": "execute_result"
        }
      ],
      "source": [
        "# Fitting Logistic Regression to the Training set\n",
        "from sklearn.linear_model import LogisticRegression\n",
        "classifier_lr = LogisticRegression(C=1, fit_intercept=True, max_iter=1000, penalty = 'l2', solver='liblinear')\n",
        "classifier_lr.fit(X_train, y_train.ravel())"
      ]
    },
    {
      "cell_type": "code",
      "execution_count": null,
      "id": "fd909d2e",
      "metadata": {
        "id": "fd909d2e",
        "outputId": "814dbdaa-22f9-4056-c9ca-63f8ce074a9d"
      },
      "outputs": [
        {
          "name": "stdout",
          "output_type": "stream",
          "text": [
            "CV:  0.9340579710144927\n",
            "Training set:  0.9340659340659341\n",
            "Test set:  0.9736842105263158\n"
          ]
        }
      ],
      "source": [
        "# Predicting Cross Validation Score\n",
        "from sklearn.model_selection import cross_val_score\n",
        "cv_lr = cross_val_score(estimator = classifier_lr, X = X_train, y = y_train.ravel(), cv = 10)\n",
        "print(\"CV: \", cv_lr.mean())\n",
        "\n",
        "y_pred = classifier_lr.predict(X_train)\n",
        "accuracy_lr_train = accuracy_score(y_train, y_pred)\n",
        "print(\"Training set: \", accuracy_lr_train)\n",
        "\n",
        "y_pred_lr_test = classifier_lr.predict(X_test)\n",
        "accuracy_lr_test = accuracy_score(y_test, y_pred_lr_test)\n",
        "print(\"Test set: \", accuracy_lr_test)"
      ]
    },
    {
      "cell_type": "code",
      "execution_count": null,
      "id": "3bedd346",
      "metadata": {
        "id": "3bedd346",
        "outputId": "c3dc2a30-b560-4a80-a180-f9383aa65414"
      },
      "outputs": [
        {
          "data": {
            "text/plain": [
              "array([[71,  0],\n",
              "       [ 3, 40]], dtype=int64)"
            ]
          },
          "execution_count": 84,
          "metadata": {},
          "output_type": "execute_result"
        }
      ],
      "source": [
        "confusion_matrix(y_test, y_pred_lr_test)"
      ]
    },
    {
      "cell_type": "code",
      "execution_count": null,
      "id": "b3863b5f",
      "metadata": {
        "id": "b3863b5f"
      },
      "outputs": [],
      "source": [
        "tp_lr = confusion_matrix(y_test, y_pred_lr_test)[0,0]\n",
        "fp_lr = confusion_matrix(y_test, y_pred_lr_test)[0,1]\n",
        "tn_lr = confusion_matrix(y_test, y_pred_lr_test)[1,1]\n",
        "fn_lr = confusion_matrix(y_test, y_pred_lr_test)[1,0]"
      ]
    },
    {
      "cell_type": "code",
      "execution_count": null,
      "id": "1a4c6595",
      "metadata": {
        "id": "1a4c6595",
        "outputId": "25e264ae-0f7d-4663-daf8-975d5c652bbb"
      },
      "outputs": [
        {
          "name": "stdout",
          "output_type": "stream",
          "text": [
            "Accuracy for the logistic regression classifier is: 97.36842105263158 %\n"
          ]
        },
        {
          "name": "stderr",
          "output_type": "stream",
          "text": [
            "C:\\Users\\91900\\anaconda3\\lib\\site-packages\\sklearn\\utils\\deprecation.py:87: FutureWarning: Function plot_confusion_matrix is deprecated; Function `plot_confusion_matrix` is deprecated in 1.0 and will be removed in 1.2. Use one of the class methods: ConfusionMatrixDisplay.from_predictions or ConfusionMatrixDisplay.from_estimator.\n",
            "  warnings.warn(msg, category=FutureWarning)\n"
          ]
        },
        {
          "data": {
            "image/png": "[encoded data removed]",
            "text/plain": [
              "<Figure size 432x288 with 2 Axes>"
            ]
          },
          "metadata": {
            "needs_background": "light"
          },
          "output_type": "display_data"
        }
      ],
      "source": [
        "# Compute the confusion matrix\n",
        "cm = confusion_matrix(y_test, y_pred_lr_test)\n",
        "ac_lr = accuracy_score(y_test, y_pred_lr_test)\n",
        "print('Accuracy for the logistic regression classifier is:', ac_lr*100 , '%')\n",
        "\n",
        "#plot the confusion matrix\n",
        "plot_confusion_matrix(classifier_lr, X_test, y_test)\n",
        "plt.show()"
      ]
    },
    {
      "cell_type": "code",
      "execution_count": null,
      "id": "c694f873",
      "metadata": {
        "id": "c694f873",
        "outputId": "5dd735d5-1e15-4367-bb54-b357a49cb838"
      },
      "outputs": [
        {
          "name": "stderr",
          "output_type": "stream",
          "text": [
            "C:\\Users\\91900\\anaconda3\\lib\\site-packages\\sklearn\\utils\\deprecation.py:87: FutureWarning: Function plot_roc_curve is deprecated; Function :func:`plot_roc_curve` is deprecated in 1.0 and will be removed in 1.2. Use one of the class methods: :meth:`sklearn.metrics.RocCurveDisplay.from_predictions` or :meth:`sklearn.metrics.RocCurveDisplay.from_estimator`.\n",
            "  warnings.warn(msg, category=FutureWarning)\n"
          ]
        },
        {
          "data": {
            "image/png": "[encoded data removed]",
            "text/plain": [
              "<Figure size 432x288 with 1 Axes>"
            ]
          },
          "metadata": {
            "needs_background": "light"
          },
          "output_type": "display_data"
        }
      ],
      "source": [
        "# Compute the ROC curve\n",
        "fpr, tpr, thresholds = roc_curve(y_test, y_pred_lr_test)\n",
        "\n",
        "# Plot the ROC curve\n",
        "plot_roc_curve(classifier_lr, X_test, y_test)\n",
        "plt.show()"
      ]
    },
    {
      "cell_type": "code",
      "execution_count": null,
      "id": "21fd4ed1",
      "metadata": {
        "id": "21fd4ed1",
        "outputId": "b6cc5c92-01b0-4a33-e7f9-b36ec224a092"
      },
      "outputs": [
        {
          "name": "stderr",
          "output_type": "stream",
          "text": [
            "C:\\Users\\91900\\anaconda3\\lib\\site-packages\\sklearn\\utils\\deprecation.py:87: FutureWarning: Function plot_precision_recall_curve is deprecated; Function `plot_precision_recall_curve` is deprecated in 1.0 and will be removed in 1.2. Use one of the class methods: PrecisionRecallDisplay.from_predictions or PrecisionRecallDisplay.from_estimator.\n",
            "  warnings.warn(msg, category=FutureWarning)\n"
          ]
        },
        {
          "data": {
            "image/png": "[encoded data removed]",
            "text/plain": [
              "<Figure size 432x288 with 1 Axes>"
            ]
          },
          "metadata": {
            "needs_background": "light"
          },
          "output_type": "display_data"
        }
      ],
      "source": [
        "# Compute the precision-recall curve\n",
        "precision, recall, thresholds = precision_recall_curve(y_test, y_pred_lr_test)\n",
        "\n",
        "# Plot the precision-recall curve\n",
        "plot_precision_recall_curve(classifier_lr, X_test, y_test)\n",
        "plt.show()\n"
      ]
    },
    {
      "cell_type": "markdown",
      "id": "de5e3635",
      "metadata": {
        "id": "de5e3635"
      },
      "source": [
        "# 3. KNN Classifier"
      ]
    },
    {
      "cell_type": "code",
      "execution_count": null,
      "id": "bf2dcb91",
      "metadata": {
        "id": "bf2dcb91",
        "outputId": "545c31b1-81fa-4117-c985-f056c12f1b8b"
      },
      "outputs": [
        {
          "data": {
            "text/html": [
              "<style>#sk-container-id-3 {color: black;background-color: white;}#sk-container-id-3 pre{padding: 0;}#sk-container-id-3 div.sk-toggleable {background-color: white;}#sk-container-id-3 label.sk-toggleable__label {cursor: pointer;display: block;width: 100%;margin-bottom: 0;padding: 0.3em;box-sizing: border-box;text-align: center;}#sk-container-id-3 label.sk-toggleable__label-arrow:before {content: \"▸\";float: left;margin-right: 0.25em;color: #696969;}#sk-container-id-3 label.sk-toggleable__label-arrow:hover:before {color: black;}#sk-container-id-3 div.sk-estimator:hover label.sk-toggleable__label-arrow:before {color: black;}#sk-container-id-3 div.sk-toggleable__content {max-height: 0;max-width: 0;overflow: hidden;text-align: left;background-color: #f0f8ff;}#sk-container-id-3 div.sk-toggleable__content pre {margin: 0.2em;color: black;border-radius: 0.25em;background-color: #f0f8ff;}#sk-container-id-3 input.sk-toggleable__control:checked~div.sk-toggleable__content {max-height: 200px;max-width: 100%;overflow: auto;}#sk-container-id-3 input.sk-toggleable__control:checked~label.sk-toggleable__label-arrow:before {content: \"▾\";}#sk-container-id-3 div.sk-estimator input.sk-toggleable__control:checked~label.sk-toggleable__label {background-color: #d4ebff;}#sk-container-id-3 div.sk-label input.sk-toggleable__control:checked~label.sk-toggleable__label {background-color: #d4ebff;}#sk-container-id-3 input.sk-hidden--visually {border: 0;clip: rect(1px 1px 1px 1px);clip: rect(1px, 1px, 1px, 1px);height: 1px;margin: -1px;overflow: hidden;padding: 0;position: absolute;width: 1px;}#sk-container-id-3 div.sk-estimator {font-family: monospace;background-color: #f0f8ff;border: 1px dotted black;border-radius: 0.25em;box-sizing: border-box;margin-bottom: 0.5em;}#sk-container-id-3 div.sk-estimator:hover {background-color: #d4ebff;}#sk-container-id-3 div.sk-parallel-item::after {content: \"\";width: 100%;border-bottom: 1px solid gray;flex-grow: 1;}#sk-container-id-3 div.sk-label:hover label.sk-toggleable__label {background-color: #d4ebff;}#sk-container-id-3 div.sk-serial::before {content: \"\";position: absolute;border-left: 1px solid gray;box-sizing: border-box;top: 0;bottom: 0;left: 50%;z-index: 0;}#sk-container-id-3 div.sk-serial {display: flex;flex-direction: column;align-items: center;background-color: white;padding-right: 0.2em;padding-left: 0.2em;position: relative;}#sk-container-id-3 div.sk-item {position: relative;z-index: 1;}#sk-container-id-3 div.sk-parallel {display: flex;align-items: stretch;justify-content: center;background-color: white;position: relative;}#sk-container-id-3 div.sk-item::before, #sk-container-id-3 div.sk-parallel-item::before {content: \"\";position: absolute;border-left: 1px solid gray;box-sizing: border-box;top: 0;bottom: 0;left: 50%;z-index: -1;}#sk-container-id-3 div.sk-parallel-item {display: flex;flex-direction: column;z-index: 1;position: relative;background-color: white;}#sk-container-id-3 div.sk-parallel-item:first-child::after {align-self: flex-end;width: 50%;}#sk-container-id-3 div.sk-parallel-item:last-child::after {align-self: flex-start;width: 50%;}#sk-container-id-3 div.sk-parallel-item:only-child::after {width: 0;}#sk-container-id-3 div.sk-dashed-wrapped {border: 1px dashed gray;margin: 0 0.4em 0.5em 0.4em;box-sizing: border-box;padding-bottom: 0.4em;background-color: white;}#sk-container-id-3 div.sk-label label {font-family: monospace;font-weight: bold;display: inline-block;line-height: 1.2em;}#sk-container-id-3 div.sk-label-container {text-align: center;}#sk-container-id-3 div.sk-container {/* jupyter's `normalize.less` sets `[hidden] { display: none; }` but bootstrap.min.css set `[hidden] { display: none !important; }` so we also need the `!important` here to be able to override the default hidden behavior on the sphinx rendered scikit-learn.org. See: https://github.com/scikit-learn/scikit-learn/issues/21755 */display: inline-block !important;position: relative;}#sk-container-id-3 div.sk-text-repr-fallback {display: none;}</style><div id=\"sk-container-id-3\" class=\"sk-top-container\"><div class=\"sk-text-repr-fallback\"><pre>KNeighborsClassifier(leaf_size=1, n_neighbors=32, weights=&#x27;distance&#x27;)</pre><b>In a Jupyter environment, please rerun this cell to show the HTML representation or trust the notebook. <br />On GitHub, the HTML representation is unable to render, please try loading this page with nbviewer.org.</b></div><div class=\"sk-container\" hidden><div class=\"sk-item\"><div class=\"sk-estimator sk-toggleable\"><input class=\"sk-toggleable__control sk-hidden--visually\" id=\"sk-estimator-id-3\" type=\"checkbox\" checked><label for=\"sk-estimator-id-3\" class=\"sk-toggleable__label sk-toggleable__label-arrow\">KNeighborsClassifier</label><div class=\"sk-toggleable__content\"><pre>KNeighborsClassifier(leaf_size=1, n_neighbors=32, weights=&#x27;distance&#x27;)</pre></div></div></div></div></div>"
            ],
            "text/plain": [
              "KNeighborsClassifier(leaf_size=1, n_neighbors=32, weights='distance')"
            ]
          },
          "execution_count": 90,
          "metadata": {},
          "output_type": "execute_result"
        }
      ],
      "source": [
        "# Fitting classifier to the Training set\n",
        "from sklearn.neighbors import KNeighborsClassifier\n",
        "classifier_knn = KNeighborsClassifier(leaf_size = 1, metric = 'minkowski', n_neighbors = 32, weights = 'distance')\n",
        "classifier_knn.fit(X_train, y_train.ravel())"
      ]
    },
    {
      "cell_type": "code",
      "execution_count": null,
      "id": "72cf2c7a",
      "metadata": {
        "id": "72cf2c7a",
        "outputId": "e227241c-385f-44f8-a0d8-1d895946060e"
      },
      "outputs": [
        {
          "name": "stdout",
          "output_type": "stream",
          "text": [
            "CV:  0.9143961352657005\n",
            "Training set:  1.0\n",
            "Test set:  0.956140350877193\n"
          ]
        }
      ],
      "source": [
        "# Predicting Cross Validation Score\n",
        "cv_knn = cross_val_score(estimator = classifier_knn, X = X_train, y = y_train.ravel(), cv = 10)\n",
        "print(\"CV: \", cv_knn.mean())\n",
        "\n",
        "y_pred_knn_train = classifier_knn.predict(X_train)\n",
        "accuracy_knn_train = accuracy_score(y_train, y_pred_knn_train)\n",
        "print(\"Training set: \", accuracy_knn_train)\n",
        "\n",
        "y_pred_knn_test = classifier_knn.predict(X_test)\n",
        "accuracy_knn_test = accuracy_score(y_test, y_pred_knn_test)\n",
        "print(\"Test set: \", accuracy_knn_test)"
      ]
    },
    {
      "cell_type": "code",
      "execution_count": null,
      "id": "404a18af",
      "metadata": {
        "id": "404a18af",
        "outputId": "d8502922-9217-4f36-9ee0-96a38193727a"
      },
      "outputs": [
        {
          "data": {
            "text/plain": [
              "array([[70,  1],\n",
              "       [ 4, 39]], dtype=int64)"
            ]
          },
          "execution_count": 92,
          "metadata": {},
          "output_type": "execute_result"
        }
      ],
      "source": [
        "confusion_matrix(y_test, y_pred_knn_test)"
      ]
    },
    {
      "cell_type": "code",
      "execution_count": null,
      "id": "b8dffa8c",
      "metadata": {
        "id": "b8dffa8c"
      },
      "outputs": [],
      "source": [
        "tp_knn = confusion_matrix(y_test, y_pred_knn_test)[0,0]\n",
        "fp_knn = confusion_matrix(y_test, y_pred_knn_test)[0,1]\n",
        "tn_knn = confusion_matrix(y_test, y_pred_knn_test)[1,1]\n",
        "fn_knn = confusion_matrix(y_test, y_pred_knn_test)[1,0]"
      ]
    },
    {
      "cell_type": "code",
      "execution_count": null,
      "id": "c05ccb3a",
      "metadata": {
        "id": "c05ccb3a",
        "outputId": "02679dd3-89b7-4ecc-d312-8bf5ca810f47"
      },
      "outputs": [
        {
          "name": "stdout",
          "output_type": "stream",
          "text": [
            "Accuracy for the knn classifier is: 95.6140350877193 %\n"
          ]
        },
        {
          "name": "stderr",
          "output_type": "stream",
          "text": [
            "C:\\Users\\91900\\anaconda3\\lib\\site-packages\\sklearn\\utils\\deprecation.py:87: FutureWarning: Function plot_confusion_matrix is deprecated; Function `plot_confusion_matrix` is deprecated in 1.0 and will be removed in 1.2. Use one of the class methods: ConfusionMatrixDisplay.from_predictions or ConfusionMatrixDisplay.from_estimator.\n",
            "  warnings.warn(msg, category=FutureWarning)\n"
          ]
        },
        {
          "data": {
            "image/png": "[encoded data removed]",
            "text/plain": [
              "<Figure size 432x288 with 2 Axes>"
            ]
          },
          "metadata": {
            "needs_background": "light"
          },
          "output_type": "display_data"
        }
      ],
      "source": [
        "# Compute the confusion matrix\n",
        "cm = confusion_matrix(y_test, y_pred_knn_test)\n",
        "ac_knn = accuracy_score(y_test, y_pred_knn_test)\n",
        "print('Accuracy for the knn classifier is:', ac_knn*100 , '%')\n",
        "# Plot the confusion matrix\n",
        "plot_confusion_matrix(classifier_knn, X_test, y_test)\n",
        "plt.show()"
      ]
    },
    {
      "cell_type": "code",
      "execution_count": null,
      "id": "0c5750bf",
      "metadata": {
        "id": "0c5750bf",
        "outputId": "5de74523-856a-47e2-9212-fe55772dc177"
      },
      "outputs": [
        {
          "name": "stderr",
          "output_type": "stream",
          "text": [
            "C:\\Users\\91900\\anaconda3\\lib\\site-packages\\sklearn\\utils\\deprecation.py:87: FutureWarning: Function plot_roc_curve is deprecated; Function :func:`plot_roc_curve` is deprecated in 1.0 and will be removed in 1.2. Use one of the class methods: :meth:`sklearn.metrics.RocCurveDisplay.from_predictions` or :meth:`sklearn.metrics.RocCurveDisplay.from_estimator`.\n",
            "  warnings.warn(msg, category=FutureWarning)\n"
          ]
        },
        {
          "data": {
            "image/png": "[encoded data removed]",
            "text/plain": [
              "<Figure size 432x288 with 1 Axes>"
            ]
          },
          "metadata": {
            "needs_background": "light"
          },
          "output_type": "display_data"
        }
      ],
      "source": [
        "# Compute the ROC curve\n",
        "fpr, tpr, thresholds = roc_curve(y_test, y_pred_knn_test)\n",
        "\n",
        "# Plot the ROC curve\n",
        "plot_roc_curve(classifier_knn, X_test, y_test)\n",
        "plt.show()"
      ]
    },
    {
      "cell_type": "code",
      "execution_count": null,
      "id": "219121ac",
      "metadata": {
        "id": "219121ac",
        "outputId": "f2b7fe09-7d24-42da-a640-7f84b9690081"
      },
      "outputs": [
        {
          "name": "stderr",
          "output_type": "stream",
          "text": [
            "C:\\Users\\91900\\anaconda3\\lib\\site-packages\\sklearn\\utils\\deprecation.py:87: FutureWarning: Function plot_precision_recall_curve is deprecated; Function `plot_precision_recall_curve` is deprecated in 1.0 and will be removed in 1.2. Use one of the class methods: PrecisionRecallDisplay.from_predictions or PrecisionRecallDisplay.from_estimator.\n",
            "  warnings.warn(msg, category=FutureWarning)\n"
          ]
        },
        {
          "data": {
            "image/png": "[encoded data removed]",
            "text/plain": [
              "<Figure size 432x288 with 1 Axes>"
            ]
          },
          "metadata": {
            "needs_background": "light"
          },
          "output_type": "display_data"
        }
      ],
      "source": [
        "# Compute the precision-recall curve\n",
        "precision, recall, thresholds = precision_recall_curve(y_test, y_pred_knn_test)\n",
        "\n",
        "# Plot the precision-recall curve\n",
        "plot_precision_recall_curve(classifier_knn, X_test, y_test)\n",
        "plt.show()"
      ]
    },
    {
      "cell_type": "markdown",
      "id": "53c5576b",
      "metadata": {
        "id": "53c5576b"
      },
      "source": [
        "# 4. Support vector machine - SVM(RBF)"
      ]
    },
    {
      "cell_type": "code",
      "execution_count": null,
      "id": "da7d41be",
      "metadata": {
        "id": "da7d41be",
        "outputId": "ba7fab0c-c1dd-4246-e5eb-f386fc43ddc4"
      },
      "outputs": [
        {
          "data": {
            "text/html": [
              "<style>#sk-container-id-5 {color: black;background-color: white;}#sk-container-id-5 pre{padding: 0;}#sk-container-id-5 div.sk-toggleable {background-color: white;}#sk-container-id-5 label.sk-toggleable__label {cursor: pointer;display: block;width: 100%;margin-bottom: 0;padding: 0.3em;box-sizing: border-box;text-align: center;}#sk-container-id-5 label.sk-toggleable__label-arrow:before {content: \"▸\";float: left;margin-right: 0.25em;color: #696969;}#sk-container-id-5 label.sk-toggleable__label-arrow:hover:before {color: black;}#sk-container-id-5 div.sk-estimator:hover label.sk-toggleable__label-arrow:before {color: black;}#sk-container-id-5 div.sk-toggleable__content {max-height: 0;max-width: 0;overflow: hidden;text-align: left;background-color: #f0f8ff;}#sk-container-id-5 div.sk-toggleable__content pre {margin: 0.2em;color: black;border-radius: 0.25em;background-color: #f0f8ff;}#sk-container-id-5 input.sk-toggleable__control:checked~div.sk-toggleable__content {max-height: 200px;max-width: 100%;overflow: auto;}#sk-container-id-5 input.sk-toggleable__control:checked~label.sk-toggleable__label-arrow:before {content: \"▾\";}#sk-container-id-5 div.sk-estimator input.sk-toggleable__control:checked~label.sk-toggleable__label {background-color: #d4ebff;}#sk-container-id-5 div.sk-label input.sk-toggleable__control:checked~label.sk-toggleable__label {background-color: #d4ebff;}#sk-container-id-5 input.sk-hidden--visually {border: 0;clip: rect(1px 1px 1px 1px);clip: rect(1px, 1px, 1px, 1px);height: 1px;margin: -1px;overflow: hidden;padding: 0;position: absolute;width: 1px;}#sk-container-id-5 div.sk-estimator {font-family: monospace;background-color: #f0f8ff;border: 1px dotted black;border-radius: 0.25em;box-sizing: border-box;margin-bottom: 0.5em;}#sk-container-id-5 div.sk-estimator:hover {background-color: #d4ebff;}#sk-container-id-5 div.sk-parallel-item::after {content: \"\";width: 100%;border-bottom: 1px solid gray;flex-grow: 1;}#sk-container-id-5 div.sk-label:hover label.sk-toggleable__label {background-color: #d4ebff;}#sk-container-id-5 div.sk-serial::before {content: \"\";position: absolute;border-left: 1px solid gray;box-sizing: border-box;top: 0;bottom: 0;left: 50%;z-index: 0;}#sk-container-id-5 div.sk-serial {display: flex;flex-direction: column;align-items: center;background-color: white;padding-right: 0.2em;padding-left: 0.2em;position: relative;}#sk-container-id-5 div.sk-item {position: relative;z-index: 1;}#sk-container-id-5 div.sk-parallel {display: flex;align-items: stretch;justify-content: center;background-color: white;position: relative;}#sk-container-id-5 div.sk-item::before, #sk-container-id-5 div.sk-parallel-item::before {content: \"\";position: absolute;border-left: 1px solid gray;box-sizing: border-box;top: 0;bottom: 0;left: 50%;z-index: -1;}#sk-container-id-5 div.sk-parallel-item {display: flex;flex-direction: column;z-index: 1;position: relative;background-color: white;}#sk-container-id-5 div.sk-parallel-item:first-child::after {align-self: flex-end;width: 50%;}#sk-container-id-5 div.sk-parallel-item:last-child::after {align-self: flex-start;width: 50%;}#sk-container-id-5 div.sk-parallel-item:only-child::after {width: 0;}#sk-container-id-5 div.sk-dashed-wrapped {border: 1px dashed gray;margin: 0 0.4em 0.5em 0.4em;box-sizing: border-box;padding-bottom: 0.4em;background-color: white;}#sk-container-id-5 div.sk-label label {font-family: monospace;font-weight: bold;display: inline-block;line-height: 1.2em;}#sk-container-id-5 div.sk-label-container {text-align: center;}#sk-container-id-5 div.sk-container {/* jupyter's `normalize.less` sets `[hidden] { display: none; }` but bootstrap.min.css set `[hidden] { display: none !important; }` so we also need the `!important` here to be able to override the default hidden behavior on the sphinx rendered scikit-learn.org. See: https://github.com/scikit-learn/scikit-learn/issues/21755 */display: inline-block !important;position: relative;}#sk-container-id-5 div.sk-text-repr-fallback {display: none;}</style><div id=\"sk-container-id-5\" class=\"sk-top-container\"><div class=\"sk-text-repr-fallback\"><pre>SVC(C=10)</pre><b>In a Jupyter environment, please rerun this cell to show the HTML representation or trust the notebook. <br />On GitHub, the HTML representation is unable to render, please try loading this page with nbviewer.org.</b></div><div class=\"sk-container\" hidden><div class=\"sk-item\"><div class=\"sk-estimator sk-toggleable\"><input class=\"sk-toggleable__control sk-hidden--visually\" id=\"sk-estimator-id-5\" type=\"checkbox\" checked><label for=\"sk-estimator-id-5\" class=\"sk-toggleable__label sk-toggleable__label-arrow\">SVC</label><div class=\"sk-toggleable__content\"><pre>SVC(C=10)</pre></div></div></div></div></div>"
            ],
            "text/plain": [
              "SVC(C=10)"
            ]
          },
          "execution_count": 107,
          "metadata": {},
          "output_type": "execute_result"
        }
      ],
      "source": [
        "# Fitting classifier to the Training set\n",
        "from sklearn.svm import SVC\n",
        "classifier_svm_kernel = SVC(kernel = 'rbf', C = 10, tol = 0.001, gamma = 'scale')\n",
        "classifier_svm_kernel.fit(X_train, y_train.ravel())"
      ]
    },
    {
      "cell_type": "code",
      "execution_count": null,
      "id": "bd0ba4eb",
      "metadata": {
        "id": "bd0ba4eb",
        "outputId": "9a814638-d233-4ab2-c772-7cd09289ca9c"
      },
      "outputs": [
        {
          "name": "stdout",
          "output_type": "stream",
          "text": [
            "CV:  0.9229951690821256\n",
            "Training set:  0.9538461538461539\n",
            "Test set:  0.956140350877193\n"
          ]
        }
      ],
      "source": [
        "# Predicting Cross Validation Score\n",
        "cv_svm_kernel = cross_val_score(estimator = classifier_svm_kernel, X = X_train, y = y_train.ravel(), cv = 10)\n",
        "print(\"CV: \", cv_svm_kernel.mean())\n",
        "\n",
        "y_pred_svm_kernel_train = classifier_svm_kernel.predict(X_train)\n",
        "accuracy_svm_kernel_train = accuracy_score(y_train, y_pred_svm_kernel_train)\n",
        "print(\"Training set: \", accuracy_svm_kernel_train)\n",
        "\n",
        "y_pred_svm_kernel_test = classifier_svm_kernel.predict(X_test)\n",
        "accuracy_svm_kernel_test = accuracy_score(y_test, y_pred_svm_kernel_test)\n",
        "print(\"Test set: \", accuracy_svm_kernel_test)"
      ]
    },
    {
      "cell_type": "code",
      "execution_count": null,
      "id": "1e736bfa",
      "metadata": {
        "id": "1e736bfa",
        "outputId": "669a6253-5666-4f58-b10a-60f1ad4d6b07"
      },
      "outputs": [
        {
          "data": {
            "text/plain": [
              "array([[69,  2],\n",
              "       [ 3, 40]], dtype=int64)"
            ]
          },
          "execution_count": 109,
          "metadata": {},
          "output_type": "execute_result"
        }
      ],
      "source": [
        "confusion_matrix(y_test, y_pred_svm_kernel_test)"
      ]
    },
    {
      "cell_type": "code",
      "execution_count": null,
      "id": "b732ebb5",
      "metadata": {
        "id": "b732ebb5"
      },
      "outputs": [],
      "source": [
        "tp_svm_kernel = confusion_matrix(y_test, y_pred_svm_kernel_test)[0,0]\n",
        "fp_svm_kernel = confusion_matrix(y_test, y_pred_svm_kernel_test)[0,1]\n",
        "tn_svm_kernel = confusion_matrix(y_test, y_pred_svm_kernel_test)[1,1]\n",
        "fn_svm_kernel = confusion_matrix(y_test, y_pred_svm_kernel_test)[1,0]"
      ]
    },
    {
      "cell_type": "code",
      "execution_count": null,
      "id": "d9856042",
      "metadata": {
        "id": "d9856042",
        "outputId": "1891ac01-dd4a-4c5f-e61f-9c3199e87e38"
      },
      "outputs": [
        {
          "name": "stdout",
          "output_type": "stream",
          "text": [
            "Accuracy for the svm classifier with rbf kernel is: 95.6140350877193 %\n"
          ]
        },
        {
          "name": "stderr",
          "output_type": "stream",
          "text": [
            "C:\\Users\\91900\\anaconda3\\lib\\site-packages\\sklearn\\utils\\deprecation.py:87: FutureWarning: Function plot_confusion_matrix is deprecated; Function `plot_confusion_matrix` is deprecated in 1.0 and will be removed in 1.2. Use one of the class methods: ConfusionMatrixDisplay.from_predictions or ConfusionMatrixDisplay.from_estimator.\n",
            "  warnings.warn(msg, category=FutureWarning)\n"
          ]
        },
        {
          "data": {
            "image/png": "[encoded data removed]",
            "text/plain": [
              "<Figure size 432x288 with 2 Axes>"
            ]
          },
          "metadata": {
            "needs_background": "light"
          },
          "output_type": "display_data"
        }
      ],
      "source": [
        "# Compute the confusion matrix\n",
        "cm = confusion_matrix(y_test, y_pred_svm_kernel_test)\n",
        "ac_svm2 = accuracy_score(y_test, y_pred_svm_kernel_test)\n",
        "print('Accuracy for the svm classifier with rbf kernel is:', ac_svm2*100 , '%')\n",
        "# Plot the confusion matrix\n",
        "plot_confusion_matrix(classifier_svm_kernel, X_test, y_test)\n",
        "plt.show()"
      ]
    },
    {
      "cell_type": "code",
      "execution_count": null,
      "id": "189791fd",
      "metadata": {
        "id": "189791fd",
        "outputId": "1722aee7-f62d-4939-cb42-5f19ec52920b"
      },
      "outputs": [
        {
          "name": "stderr",
          "output_type": "stream",
          "text": [
            "C:\\Users\\91900\\anaconda3\\lib\\site-packages\\sklearn\\utils\\deprecation.py:87: FutureWarning: Function plot_roc_curve is deprecated; Function :func:`plot_roc_curve` is deprecated in 1.0 and will be removed in 1.2. Use one of the class methods: :meth:`sklearn.metrics.RocCurveDisplay.from_predictions` or :meth:`sklearn.metrics.RocCurveDisplay.from_estimator`.\n",
            "  warnings.warn(msg, category=FutureWarning)\n"
          ]
        },
        {
          "data": {
            "image/png": "[encoded data removed]",
            "text/plain": [
              "<Figure size 432x288 with 1 Axes>"
            ]
          },
          "metadata": {
            "needs_background": "light"
          },
          "output_type": "display_data"
        }
      ],
      "source": [
        "# Compute the ROC curve\n",
        "fpr, tpr, thresholds = roc_curve(y_test, y_pred_svm_kernel_test)\n",
        "\n",
        "# Plot the ROC curve\n",
        "plot_roc_curve(classifier_svm_kernel, X_test, y_test)\n",
        "plt.show()"
      ]
    },
    {
      "cell_type": "code",
      "execution_count": null,
      "id": "4132c60c",
      "metadata": {
        "id": "4132c60c",
        "outputId": "33fc02ea-8982-4880-cdef-a3e4c407acc3"
      },
      "outputs": [
        {
          "name": "stderr",
          "output_type": "stream",
          "text": [
            "C:\\Users\\91900\\anaconda3\\lib\\site-packages\\sklearn\\utils\\deprecation.py:87: FutureWarning: Function plot_precision_recall_curve is deprecated; Function `plot_precision_recall_curve` is deprecated in 1.0 and will be removed in 1.2. Use one of the class methods: PrecisionRecallDisplay.from_predictions or PrecisionRecallDisplay.from_estimator.\n",
            "  warnings.warn(msg, category=FutureWarning)\n"
          ]
        },
        {
          "data": {
            "image/png": "[encoded data removed]",
            "text/plain": [
              "<Figure size 432x288 with 1 Axes>"
            ]
          },
          "metadata": {
            "needs_background": "light"
          },
          "output_type": "display_data"
        }
      ],
      "source": [
        "# Compute the precision-recall curve\n",
        "precision, recall, thresholds = precision_recall_curve(y_test, y_pred_svm_kernel_test)\n",
        "\n",
        "# Plot the precision-recall curve\n",
        "plot_precision_recall_curve(classifier_svm_kernel, X_test, y_test)\n",
        "plt.show()"
      ]
    },
    {
      "cell_type": "markdown",
      "id": "6de9b024",
      "metadata": {
        "id": "6de9b024"
      },
      "source": [
        "# 5. Decision tree classification"
      ]
    },
    {
      "cell_type": "code",
      "execution_count": null,
      "id": "4ae8afd4",
      "metadata": {
        "id": "4ae8afd4",
        "outputId": "36bc5c2d-cdfe-4b2e-aa52-1ba9c8750eec"
      },
      "outputs": [
        {
          "data": {
            "text/html": [
              "<style>#sk-container-id-6 {color: black;background-color: white;}#sk-container-id-6 pre{padding: 0;}#sk-container-id-6 div.sk-toggleable {background-color: white;}#sk-container-id-6 label.sk-toggleable__label {cursor: pointer;display: block;width: 100%;margin-bottom: 0;padding: 0.3em;box-sizing: border-box;text-align: center;}#sk-container-id-6 label.sk-toggleable__label-arrow:before {content: \"▸\";float: left;margin-right: 0.25em;color: #696969;}#sk-container-id-6 label.sk-toggleable__label-arrow:hover:before {color: black;}#sk-container-id-6 div.sk-estimator:hover label.sk-toggleable__label-arrow:before {color: black;}#sk-container-id-6 div.sk-toggleable__content {max-height: 0;max-width: 0;overflow: hidden;text-align: left;background-color: #f0f8ff;}#sk-container-id-6 div.sk-toggleable__content pre {margin: 0.2em;color: black;border-radius: 0.25em;background-color: #f0f8ff;}#sk-container-id-6 input.sk-toggleable__control:checked~div.sk-toggleable__content {max-height: 200px;max-width: 100%;overflow: auto;}#sk-container-id-6 input.sk-toggleable__control:checked~label.sk-toggleable__label-arrow:before {content: \"▾\";}#sk-container-id-6 div.sk-estimator input.sk-toggleable__control:checked~label.sk-toggleable__label {background-color: #d4ebff;}#sk-container-id-6 div.sk-label input.sk-toggleable__control:checked~label.sk-toggleable__label {background-color: #d4ebff;}#sk-container-id-6 input.sk-hidden--visually {border: 0;clip: rect(1px 1px 1px 1px);clip: rect(1px, 1px, 1px, 1px);height: 1px;margin: -1px;overflow: hidden;padding: 0;position: absolute;width: 1px;}#sk-container-id-6 div.sk-estimator {font-family: monospace;background-color: #f0f8ff;border: 1px dotted black;border-radius: 0.25em;box-sizing: border-box;margin-bottom: 0.5em;}#sk-container-id-6 div.sk-estimator:hover {background-color: #d4ebff;}#sk-container-id-6 div.sk-parallel-item::after {content: \"\";width: 100%;border-bottom: 1px solid gray;flex-grow: 1;}#sk-container-id-6 div.sk-label:hover label.sk-toggleable__label {background-color: #d4ebff;}#sk-container-id-6 div.sk-serial::before {content: \"\";position: absolute;border-left: 1px solid gray;box-sizing: border-box;top: 0;bottom: 0;left: 50%;z-index: 0;}#sk-container-id-6 div.sk-serial {display: flex;flex-direction: column;align-items: center;background-color: white;padding-right: 0.2em;padding-left: 0.2em;position: relative;}#sk-container-id-6 div.sk-item {position: relative;z-index: 1;}#sk-container-id-6 div.sk-parallel {display: flex;align-items: stretch;justify-content: center;background-color: white;position: relative;}#sk-container-id-6 div.sk-item::before, #sk-container-id-6 div.sk-parallel-item::before {content: \"\";position: absolute;border-left: 1px solid gray;box-sizing: border-box;top: 0;bottom: 0;left: 50%;z-index: -1;}#sk-container-id-6 div.sk-parallel-item {display: flex;flex-direction: column;z-index: 1;position: relative;background-color: white;}#sk-container-id-6 div.sk-parallel-item:first-child::after {align-self: flex-end;width: 50%;}#sk-container-id-6 div.sk-parallel-item:last-child::after {align-self: flex-start;width: 50%;}#sk-container-id-6 div.sk-parallel-item:only-child::after {width: 0;}#sk-container-id-6 div.sk-dashed-wrapped {border: 1px dashed gray;margin: 0 0.4em 0.5em 0.4em;box-sizing: border-box;padding-bottom: 0.4em;background-color: white;}#sk-container-id-6 div.sk-label label {font-family: monospace;font-weight: bold;display: inline-block;line-height: 1.2em;}#sk-container-id-6 div.sk-label-container {text-align: center;}#sk-container-id-6 div.sk-container {/* jupyter's `normalize.less` sets `[hidden] { display: none; }` but bootstrap.min.css set `[hidden] { display: none !important; }` so we also need the `!important` here to be able to override the default hidden behavior on the sphinx rendered scikit-learn.org. See: https://github.com/scikit-learn/scikit-learn/issues/21755 */display: inline-block !important;position: relative;}#sk-container-id-6 div.sk-text-repr-fallback {display: none;}</style><div id=\"sk-container-id-6\" class=\"sk-top-container\"><div class=\"sk-text-repr-fallback\"><pre>DecisionTreeClassifier(max_features=5, max_leaf_nodes=400, random_state=33)</pre><b>In a Jupyter environment, please rerun this cell to show the HTML representation or trust the notebook. <br />On GitHub, the HTML representation is unable to render, please try loading this page with nbviewer.org.</b></div><div class=\"sk-container\" hidden><div class=\"sk-item\"><div class=\"sk-estimator sk-toggleable\"><input class=\"sk-toggleable__control sk-hidden--visually\" id=\"sk-estimator-id-6\" type=\"checkbox\" checked><label for=\"sk-estimator-id-6\" class=\"sk-toggleable__label sk-toggleable__label-arrow\">DecisionTreeClassifier</label><div class=\"sk-toggleable__content\"><pre>DecisionTreeClassifier(max_features=5, max_leaf_nodes=400, random_state=33)</pre></div></div></div></div></div>"
            ],
            "text/plain": [
              "DecisionTreeClassifier(max_features=5, max_leaf_nodes=400, random_state=33)"
            ]
          },
          "execution_count": 114,
          "metadata": {},
          "output_type": "execute_result"
        }
      ],
      "source": [
        "# Fitting classifier to the Training set\n",
        "from sklearn.tree import DecisionTreeClassifier\n",
        "classifier_dt = DecisionTreeClassifier(criterion = 'gini', max_features=5, max_leaf_nodes=400, random_state = 33)\n",
        "classifier_dt.fit(X_train, y_train.ravel())"
      ]
    },
    {
      "cell_type": "code",
      "execution_count": null,
      "id": "73b5aa5f",
      "metadata": {
        "id": "73b5aa5f",
        "outputId": "c284d303-edd0-44d6-936c-1b6657015f67"
      },
      "outputs": [
        {
          "name": "stdout",
          "output_type": "stream",
          "text": [
            "CV:  0.8966666666666667\n",
            "Training set:  1.0\n",
            "Test set:  0.9473684210526315\n"
          ]
        }
      ],
      "source": [
        "# Predicting Cross Validation Score\n",
        "cv_dt = cross_val_score(estimator = classifier_dt, X = X_train, y = y_train.ravel(), cv = 10)\n",
        "print(\"CV: \", cv_dt.mean())\n",
        "\n",
        "y_pred_dt_train = classifier_dt.predict(X_train)\n",
        "accuracy_dt_train = accuracy_score(y_train, y_pred_dt_train)\n",
        "print(\"Training set: \", accuracy_dt_train)\n",
        "\n",
        "y_pred_dt_test = classifier_dt.predict(X_test)\n",
        "accuracy_dt_test = accuracy_score(y_test, y_pred_dt_test)\n",
        "print(\"Test set: \", accuracy_dt_test)"
      ]
    },
    {
      "cell_type": "code",
      "execution_count": null,
      "id": "3906197a",
      "metadata": {
        "id": "3906197a",
        "outputId": "3dd26009-1e48-47ac-83b5-6ee580936e63"
      },
      "outputs": [
        {
          "data": {
            "text/plain": [
              "array([[68,  3],\n",
              "       [ 3, 40]], dtype=int64)"
            ]
          },
          "execution_count": 116,
          "metadata": {},
          "output_type": "execute_result"
        }
      ],
      "source": [
        "confusion_matrix(y_test, y_pred_dt_test)"
      ]
    },
    {
      "cell_type": "code",
      "execution_count": null,
      "id": "d57dc311",
      "metadata": {
        "id": "d57dc311"
      },
      "outputs": [],
      "source": [
        "tp_dt = confusion_matrix(y_test, y_pred_dt_test)[0,0]\n",
        "fp_dt = confusion_matrix(y_test, y_pred_dt_test)[0,1]\n",
        "tn_dt = confusion_matrix(y_test, y_pred_dt_test)[1,1]\n",
        "fn_dt = confusion_matrix(y_test, y_pred_dt_test)[1,0]"
      ]
    },
    {
      "cell_type": "code",
      "execution_count": null,
      "id": "9d481d78",
      "metadata": {
        "id": "9d481d78",
        "outputId": "b29b9f7d-678c-423f-babf-063b615bda2a"
      },
      "outputs": [
        {
          "name": "stdout",
          "output_type": "stream",
          "text": [
            "Accuracy for the dt classifier is: 94.73684210526315 %\n"
          ]
        },
        {
          "name": "stderr",
          "output_type": "stream",
          "text": [
            "C:\\Users\\91900\\anaconda3\\lib\\site-packages\\sklearn\\utils\\deprecation.py:87: FutureWarning: Function plot_confusion_matrix is deprecated; Function `plot_confusion_matrix` is deprecated in 1.0 and will be removed in 1.2. Use one of the class methods: ConfusionMatrixDisplay.from_predictions or ConfusionMatrixDisplay.from_estimator.\n",
            "  warnings.warn(msg, category=FutureWarning)\n"
          ]
        },
        {
          "data": {
            "image/png": "[encoded data removed]",
            "text/plain": [
              "<Figure size 432x288 with 2 Axes>"
            ]
          },
          "metadata": {
            "needs_background": "light"
          },
          "output_type": "display_data"
        }
      ],
      "source": [
        "# Compute the confusion matrix\n",
        "cm = confusion_matrix(y_test, y_pred_dt_test)\n",
        "ac_dt = accuracy_score(y_test, y_pred_dt_test)\n",
        "print('Accuracy for the dt classifier is:', ac_dt*100 , '%')\n",
        "# Plot the confusion matrix\n",
        "plot_confusion_matrix( classifier_dt, X_test, y_test)\n",
        "plt.show()"
      ]
    },
    {
      "cell_type": "code",
      "execution_count": null,
      "id": "b4fe9977",
      "metadata": {
        "id": "b4fe9977",
        "outputId": "5bd1691a-5e78-4494-9eb5-8c50d440da87"
      },
      "outputs": [
        {
          "name": "stderr",
          "output_type": "stream",
          "text": [
            "C:\\Users\\91900\\anaconda3\\lib\\site-packages\\sklearn\\utils\\deprecation.py:87: FutureWarning: Function plot_roc_curve is deprecated; Function :func:`plot_roc_curve` is deprecated in 1.0 and will be removed in 1.2. Use one of the class methods: :meth:`sklearn.metrics.RocCurveDisplay.from_predictions` or :meth:`sklearn.metrics.RocCurveDisplay.from_estimator`.\n",
            "  warnings.warn(msg, category=FutureWarning)\n"
          ]
        },
        {
          "data": {
            "image/png": "[encoded data removed]",
            "text/plain": [
              "<Figure size 432x288 with 1 Axes>"
            ]
          },
          "metadata": {
            "needs_background": "light"
          },
          "output_type": "display_data"
        }
      ],
      "source": [
        "# Compute the ROC curve\n",
        "fpr, tpr, thresholds = roc_curve(y_test, y_pred_dt_test)\n",
        "\n",
        "# Plot the ROC curve\n",
        "plot_roc_curve(classifier_dt, X_test, y_test)\n",
        "plt.show()"
      ]
    },
    {
      "cell_type": "code",
      "execution_count": null,
      "id": "c9fbc248",
      "metadata": {
        "id": "c9fbc248",
        "outputId": "76500e38-aca2-469c-bcdc-48e3798d7e83"
      },
      "outputs": [
        {
          "name": "stderr",
          "output_type": "stream",
          "text": [
            "C:\\Users\\91900\\anaconda3\\lib\\site-packages\\sklearn\\utils\\deprecation.py:87: FutureWarning: Function plot_precision_recall_curve is deprecated; Function `plot_precision_recall_curve` is deprecated in 1.0 and will be removed in 1.2. Use one of the class methods: PrecisionRecallDisplay.from_predictions or PrecisionRecallDisplay.from_estimator.\n",
            "  warnings.warn(msg, category=FutureWarning)\n"
          ]
        },
        {
          "data": {
            "image/png": "[encoded data removed]",
            "text/plain": [
              "<Figure size 432x288 with 1 Axes>"
            ]
          },
          "metadata": {
            "needs_background": "light"
          },
          "output_type": "display_data"
        }
      ],
      "source": [
        "# Compute the precision-recall curve\n",
        "precision, recall, thresholds = precision_recall_curve(y_test, y_pred_dt_test)\n",
        "\n",
        "# Plot the precision-recall curve\n",
        "plot_precision_recall_curve(classifier_dt, X_test, y_test)\n",
        "plt.show()"
      ]
    },
    {
      "cell_type": "markdown",
      "id": "00e8140f",
      "metadata": {
        "id": "00e8140f"
      },
      "source": [
        "# 6. Random Forest Classification"
      ]
    },
    {
      "cell_type": "code",
      "execution_count": null,
      "id": "c58552be",
      "metadata": {
        "id": "c58552be",
        "outputId": "6276da79-2087-4495-e8e8-566eb2df4437"
      },
      "outputs": [
        {
          "data": {
            "text/html": [
              "<style>#sk-container-id-7 {color: black;background-color: white;}#sk-container-id-7 pre{padding: 0;}#sk-container-id-7 div.sk-toggleable {background-color: white;}#sk-container-id-7 label.sk-toggleable__label {cursor: pointer;display: block;width: 100%;margin-bottom: 0;padding: 0.3em;box-sizing: border-box;text-align: center;}#sk-container-id-7 label.sk-toggleable__label-arrow:before {content: \"▸\";float: left;margin-right: 0.25em;color: #696969;}#sk-container-id-7 label.sk-toggleable__label-arrow:hover:before {color: black;}#sk-container-id-7 div.sk-estimator:hover label.sk-toggleable__label-arrow:before {color: black;}#sk-container-id-7 div.sk-toggleable__content {max-height: 0;max-width: 0;overflow: hidden;text-align: left;background-color: #f0f8ff;}#sk-container-id-7 div.sk-toggleable__content pre {margin: 0.2em;color: black;border-radius: 0.25em;background-color: #f0f8ff;}#sk-container-id-7 input.sk-toggleable__control:checked~div.sk-toggleable__content {max-height: 200px;max-width: 100%;overflow: auto;}#sk-container-id-7 input.sk-toggleable__control:checked~label.sk-toggleable__label-arrow:before {content: \"▾\";}#sk-container-id-7 div.sk-estimator input.sk-toggleable__control:checked~label.sk-toggleable__label {background-color: #d4ebff;}#sk-container-id-7 div.sk-label input.sk-toggleable__control:checked~label.sk-toggleable__label {background-color: #d4ebff;}#sk-container-id-7 input.sk-hidden--visually {border: 0;clip: rect(1px 1px 1px 1px);clip: rect(1px, 1px, 1px, 1px);height: 1px;margin: -1px;overflow: hidden;padding: 0;position: absolute;width: 1px;}#sk-container-id-7 div.sk-estimator {font-family: monospace;background-color: #f0f8ff;border: 1px dotted black;border-radius: 0.25em;box-sizing: border-box;margin-bottom: 0.5em;}#sk-container-id-7 div.sk-estimator:hover {background-color: #d4ebff;}#sk-container-id-7 div.sk-parallel-item::after {content: \"\";width: 100%;border-bottom: 1px solid gray;flex-grow: 1;}#sk-container-id-7 div.sk-label:hover label.sk-toggleable__label {background-color: #d4ebff;}#sk-container-id-7 div.sk-serial::before {content: \"\";position: absolute;border-left: 1px solid gray;box-sizing: border-box;top: 0;bottom: 0;left: 50%;z-index: 0;}#sk-container-id-7 div.sk-serial {display: flex;flex-direction: column;align-items: center;background-color: white;padding-right: 0.2em;padding-left: 0.2em;position: relative;}#sk-container-id-7 div.sk-item {position: relative;z-index: 1;}#sk-container-id-7 div.sk-parallel {display: flex;align-items: stretch;justify-content: center;background-color: white;position: relative;}#sk-container-id-7 div.sk-item::before, #sk-container-id-7 div.sk-parallel-item::before {content: \"\";position: absolute;border-left: 1px solid gray;box-sizing: border-box;top: 0;bottom: 0;left: 50%;z-index: -1;}#sk-container-id-7 div.sk-parallel-item {display: flex;flex-direction: column;z-index: 1;position: relative;background-color: white;}#sk-container-id-7 div.sk-parallel-item:first-child::after {align-self: flex-end;width: 50%;}#sk-container-id-7 div.sk-parallel-item:last-child::after {align-self: flex-start;width: 50%;}#sk-container-id-7 div.sk-parallel-item:only-child::after {width: 0;}#sk-container-id-7 div.sk-dashed-wrapped {border: 1px dashed gray;margin: 0 0.4em 0.5em 0.4em;box-sizing: border-box;padding-bottom: 0.4em;background-color: white;}#sk-container-id-7 div.sk-label label {font-family: monospace;font-weight: bold;display: inline-block;line-height: 1.2em;}#sk-container-id-7 div.sk-label-container {text-align: center;}#sk-container-id-7 div.sk-container {/* jupyter's `normalize.less` sets `[hidden] { display: none; }` but bootstrap.min.css set `[hidden] { display: none !important; }` so we also need the `!important` here to be able to override the default hidden behavior on the sphinx rendered scikit-learn.org. See: https://github.com/scikit-learn/scikit-learn/issues/21755 */display: inline-block !important;position: relative;}#sk-container-id-7 div.sk-text-repr-fallback {display: none;}</style><div id=\"sk-container-id-7\" class=\"sk-top-container\"><div class=\"sk-text-repr-fallback\"><pre>RandomForestClassifier(criterion=&#x27;entropy&#x27;, max_features=4, n_estimators=800,\n",
              "                       random_state=33)</pre><b>In a Jupyter environment, please rerun this cell to show the HTML representation or trust the notebook. <br />On GitHub, the HTML representation is unable to render, please try loading this page with nbviewer.org.</b></div><div class=\"sk-container\" hidden><div class=\"sk-item\"><div class=\"sk-estimator sk-toggleable\"><input class=\"sk-toggleable__control sk-hidden--visually\" id=\"sk-estimator-id-7\" type=\"checkbox\" checked><label for=\"sk-estimator-id-7\" class=\"sk-toggleable__label sk-toggleable__label-arrow\">RandomForestClassifier</label><div class=\"sk-toggleable__content\"><pre>RandomForestClassifier(criterion=&#x27;entropy&#x27;, max_features=4, n_estimators=800,\n",
              "                       random_state=33)</pre></div></div></div></div></div>"
            ],
            "text/plain": [
              "RandomForestClassifier(criterion='entropy', max_features=4, n_estimators=800,\n",
              "                       random_state=33)"
            ]
          },
          "execution_count": 122,
          "metadata": {},
          "output_type": "execute_result"
        }
      ],
      "source": [
        "# Fitting Random Forest Classification to the Training set\n",
        "from sklearn.ensemble import RandomForestClassifier\n",
        "classifier_rf = RandomForestClassifier(criterion = 'entropy', max_features = 4, n_estimators = 800, random_state=33)\n",
        "classifier_rf.fit(X_train, y_train.ravel())"
      ]
    },
    {
      "cell_type": "code",
      "execution_count": null,
      "id": "13e0d75e",
      "metadata": {
        "id": "13e0d75e",
        "outputId": "cce9d7b9-1801-4b84-ef34-25563b29f4a5"
      },
      "outputs": [
        {
          "name": "stdout",
          "output_type": "stream",
          "text": [
            "CV:  0.9230434782608696\n",
            "Training set:  1.0\n",
            "Test set:  0.9649122807017544\n"
          ]
        }
      ],
      "source": [
        "# Predicting Cross Validation Score\n",
        "cv_rf = cross_val_score(estimator = classifier_rf, X = X_train, y = y_train.ravel(), cv = 10)\n",
        "print(\"CV: \", cv_rf.mean())\n",
        "\n",
        "y_pred_rf_train = classifier_rf.predict(X_train)\n",
        "accuracy_rf_train = accuracy_score(y_train, y_pred_rf_train)\n",
        "print(\"Training set: \", accuracy_rf_train)\n",
        "\n",
        "y_pred_rf_test = classifier_rf.predict(X_test)\n",
        "accuracy_rf_test = accuracy_score(y_test, y_pred_rf_test)\n",
        "print(\"Test set: \", accuracy_rf_test)"
      ]
    },
    {
      "cell_type": "code",
      "execution_count": null,
      "id": "62239c16",
      "metadata": {
        "id": "62239c16",
        "outputId": "e4b8ed52-aedc-4232-ff2d-ab81f2d1ee7e"
      },
      "outputs": [
        {
          "data": {
            "text/plain": [
              "array([[69,  2],\n",
              "       [ 2, 41]], dtype=int64)"
            ]
          },
          "execution_count": 124,
          "metadata": {},
          "output_type": "execute_result"
        }
      ],
      "source": [
        "confusion_matrix(y_test, y_pred_rf_test)"
      ]
    },
    {
      "cell_type": "code",
      "execution_count": null,
      "id": "9a8e94b2",
      "metadata": {
        "id": "9a8e94b2"
      },
      "outputs": [],
      "source": [
        "tp_rf = confusion_matrix(y_test, y_pred_rf_test)[0,0]\n",
        "fp_rf = confusion_matrix(y_test, y_pred_rf_test)[0,1]\n",
        "tn_rf = confusion_matrix(y_test, y_pred_rf_test)[1,1]\n",
        "fn_rf = confusion_matrix(y_test, y_pred_rf_test)[1,0]"
      ]
    },
    {
      "cell_type": "code",
      "execution_count": null,
      "id": "9a3042ec",
      "metadata": {
        "id": "9a3042ec",
        "outputId": "b1b2868e-3ade-4166-95aa-c90d7bebf8d4"
      },
      "outputs": [
        {
          "name": "stdout",
          "output_type": "stream",
          "text": [
            "Accuracy for the rf classifier is: 96.49122807017544 %\n"
          ]
        },
        {
          "name": "stderr",
          "output_type": "stream",
          "text": [
            "C:\\Users\\91900\\anaconda3\\lib\\site-packages\\sklearn\\utils\\deprecation.py:87: FutureWarning: Function plot_confusion_matrix is deprecated; Function `plot_confusion_matrix` is deprecated in 1.0 and will be removed in 1.2. Use one of the class methods: ConfusionMatrixDisplay.from_predictions or ConfusionMatrixDisplay.from_estimator.\n",
            "  warnings.warn(msg, category=FutureWarning)\n"
          ]
        },
        {
          "data": {
            "image/png": "[encoded data removed]",
            "text/plain": [
              "<Figure size 432x288 with 2 Axes>"
            ]
          },
          "metadata": {
            "needs_background": "light"
          },
          "output_type": "display_data"
        }
      ],
      "source": [
        "# Compute the confusion matrix\n",
        "cm = confusion_matrix(y_test, y_pred_rf_test)\n",
        "ac_rf = accuracy_score(y_test, y_pred_rf_test)\n",
        "print('Accuracy for the rf classifier is:', ac_rf*100 , '%')\n",
        "# Plot the confusion matrix\n",
        "plot_confusion_matrix( classifier_rf, X_test, y_test)\n",
        "plt.show()"
      ]
    },
    {
      "cell_type": "code",
      "execution_count": null,
      "id": "997cd4df",
      "metadata": {
        "id": "997cd4df",
        "outputId": "500ee06d-66e6-459d-ee66-82d2a1c4dc6d"
      },
      "outputs": [
        {
          "name": "stderr",
          "output_type": "stream",
          "text": [
            "C:\\Users\\91900\\anaconda3\\lib\\site-packages\\sklearn\\utils\\deprecation.py:87: FutureWarning: Function plot_roc_curve is deprecated; Function :func:`plot_roc_curve` is deprecated in 1.0 and will be removed in 1.2. Use one of the class methods: :meth:`sklearn.metrics.RocCurveDisplay.from_predictions` or :meth:`sklearn.metrics.RocCurveDisplay.from_estimator`.\n",
            "  warnings.warn(msg, category=FutureWarning)\n"
          ]
        },
        {
          "data": {
            "image/png": "[encoded data removed]",
            "text/plain": [
              "<Figure size 432x288 with 1 Axes>"
            ]
          },
          "metadata": {
            "needs_background": "light"
          },
          "output_type": "display_data"
        }
      ],
      "source": [
        "# Compute the ROC curve\n",
        "fpr, tpr, thresholds = roc_curve(y_test, y_pred_rf_test)\n",
        "\n",
        "# Plot the ROC curve\n",
        "plot_roc_curve(classifier_rf, X_test, y_test)\n",
        "plt.show()"
      ]
    },
    {
      "cell_type": "code",
      "execution_count": null,
      "id": "ba505d28",
      "metadata": {
        "id": "ba505d28",
        "outputId": "de58aee3-2841-444a-9a60-59b02b23a1c2"
      },
      "outputs": [
        {
          "name": "stderr",
          "output_type": "stream",
          "text": [
            "C:\\Users\\91900\\anaconda3\\lib\\site-packages\\sklearn\\utils\\deprecation.py:87: FutureWarning: Function plot_precision_recall_curve is deprecated; Function `plot_precision_recall_curve` is deprecated in 1.0 and will be removed in 1.2. Use one of the class methods: PrecisionRecallDisplay.from_predictions or PrecisionRecallDisplay.from_estimator.\n",
            "  warnings.warn(msg, category=FutureWarning)\n"
          ]
        },
        {
          "data": {
            "image/png": "[encoded data removed]",
            "text/plain": [
              "<Figure size 432x288 with 1 Axes>"
            ]
          },
          "metadata": {
            "needs_background": "light"
          },
          "output_type": "display_data"
        }
      ],
      "source": [
        "# Compute the precision-recall curve\n",
        "precision, recall, thresholds = precision_recall_curve(y_test, y_pred_rf_test)\n",
        "\n",
        "# Plot the precision-recall curve\n",
        "plot_precision_recall_curve(classifier_rf, X_test, y_test)\n",
        "plt.show()"
      ]
    },
    {
      "cell_type": "markdown",
      "id": "21d05d0d",
      "metadata": {
        "id": "21d05d0d"
      },
      "source": [
        "# Measuring the error"
      ]
    },
    {
      "cell_type": "code",
      "execution_count": null,
      "id": "5501b364",
      "metadata": {
        "id": "5501b364"
      },
      "outputs": [],
      "source": [
        "models = [('Naive Bayes', tp_nb, fp_nb, tn_nb, fn_nb, accuracy_nb_train, accuracy_nb_test, cv_nb.mean()),\n",
        "          ('Logistic Regression', tp_lr, fp_lr, tn_lr, fn_lr, accuracy_lr_train, accuracy_lr_test, cv_lr.mean()),\n",
        "          ('K-Nearest Neighbors (KNN)', tp_knn, fp_knn, tn_knn, fn_knn, accuracy_knn_train, accuracy_knn_test, cv_knn.mean()),\n",
        "          ('SVM (RBF)', tp_svm_kernel, fp_svm_kernel, tn_svm_kernel, fn_svm_kernel, accuracy_svm_kernel_train, accuracy_svm_kernel_test, cv_svm_kernel.mean()),\n",
        "          ('Decision Tree Classifier', tp_dt, fp_dt, tn_dt, fn_dt, accuracy_dt_train, accuracy_dt_test, cv_dt.mean()),\n",
        "          ('Random Forest Classifier', tp_rf, fp_rf, tn_rf, fn_rf, accuracy_rf_train, accuracy_rf_test, cv_rf.mean())\n",
        "         ]"
      ]
    },
    {
      "cell_type": "code",
      "execution_count": null,
      "id": "72b9309a",
      "metadata": {
        "scrolled": true,
        "id": "72b9309a",
        "outputId": "71d75fa3-13f7-45fe-d687-a064085961e2"
      },
      "outputs": [
        {
          "data": {
            "text/html": [
              "<div>\n",
              "<style scoped>\n",
              "    .dataframe tbody tr th:only-of-type {\n",
              "        vertical-align: middle;\n",
              "    }\n",
              "\n",
              "    .dataframe tbody tr th {\n",
              "        vertical-align: top;\n",
              "    }\n",
              "\n",
              "    .dataframe thead th {\n",
              "        text-align: right;\n",
              "    }\n",
              "</style>\n",
              "<table border=\"1\" class=\"dataframe\">\n",
              "  <thead>\n",
              "    <tr style=\"text-align: right;\">\n",
              "      <th></th>\n",
              "      <th>Model</th>\n",
              "      <th>True Positive</th>\n",
              "      <th>False Positive</th>\n",
              "      <th>True Negative</th>\n",
              "      <th>False Negative</th>\n",
              "      <th>Accuracy(train)</th>\n",
              "      <th>Accuracy(test)</th>\n",
              "      <th>Cross-Validation</th>\n",
              "    </tr>\n",
              "  </thead>\n",
              "  <tbody>\n",
              "    <tr>\n",
              "      <th>0</th>\n",
              "      <td>Naive Bayes</td>\n",
              "      <td>70</td>\n",
              "      <td>1</td>\n",
              "      <td>39</td>\n",
              "      <td>4</td>\n",
              "      <td>0.903297</td>\n",
              "      <td>0.956140</td>\n",
              "      <td>0.903092</td>\n",
              "    </tr>\n",
              "    <tr>\n",
              "      <th>1</th>\n",
              "      <td>Logistic Regression</td>\n",
              "      <td>71</td>\n",
              "      <td>0</td>\n",
              "      <td>40</td>\n",
              "      <td>3</td>\n",
              "      <td>0.934066</td>\n",
              "      <td>0.973684</td>\n",
              "      <td>0.934058</td>\n",
              "    </tr>\n",
              "    <tr>\n",
              "      <th>2</th>\n",
              "      <td>K-Nearest Neighbors (KNN)</td>\n",
              "      <td>70</td>\n",
              "      <td>1</td>\n",
              "      <td>39</td>\n",
              "      <td>4</td>\n",
              "      <td>1.000000</td>\n",
              "      <td>0.956140</td>\n",
              "      <td>0.914396</td>\n",
              "    </tr>\n",
              "    <tr>\n",
              "      <th>3</th>\n",
              "      <td>SVM (RBF)</td>\n",
              "      <td>69</td>\n",
              "      <td>2</td>\n",
              "      <td>40</td>\n",
              "      <td>3</td>\n",
              "      <td>0.953846</td>\n",
              "      <td>0.956140</td>\n",
              "      <td>0.922995</td>\n",
              "    </tr>\n",
              "    <tr>\n",
              "      <th>4</th>\n",
              "      <td>Decision Tree Classifier</td>\n",
              "      <td>68</td>\n",
              "      <td>3</td>\n",
              "      <td>40</td>\n",
              "      <td>3</td>\n",
              "      <td>1.000000</td>\n",
              "      <td>0.947368</td>\n",
              "      <td>0.896667</td>\n",
              "    </tr>\n",
              "    <tr>\n",
              "      <th>5</th>\n",
              "      <td>Random Forest Classifier</td>\n",
              "      <td>69</td>\n",
              "      <td>2</td>\n",
              "      <td>41</td>\n",
              "      <td>2</td>\n",
              "      <td>1.000000</td>\n",
              "      <td>0.964912</td>\n",
              "      <td>0.923043</td>\n",
              "    </tr>\n",
              "  </tbody>\n",
              "</table>\n",
              "</div>"
            ],
            "text/plain": [
              "                       Model  True Positive  False Positive  True Negative  \\\n",
              "0                Naive Bayes             70               1             39   \n",
              "1        Logistic Regression             71               0             40   \n",
              "2  K-Nearest Neighbors (KNN)             70               1             39   \n",
              "3                  SVM (RBF)             69               2             40   \n",
              "4   Decision Tree Classifier             68               3             40   \n",
              "5   Random Forest Classifier             69               2             41   \n",
              "\n",
              "   False Negative  Accuracy(train)  Accuracy(test)  Cross-Validation  \n",
              "0               4         0.903297        0.956140          0.903092  \n",
              "1               3         0.934066        0.973684          0.934058  \n",
              "2               4         1.000000        0.956140          0.914396  \n",
              "3               3         0.953846        0.956140          0.922995  \n",
              "4               3         1.000000        0.947368          0.896667  \n",
              "5               2         1.000000        0.964912          0.923043  "
            ]
          },
          "execution_count": 145,
          "metadata": {},
          "output_type": "execute_result"
        }
      ],
      "source": [
        "predict = pd.DataFrame(data = models, columns=['Model', 'True Positive', 'False Positive', 'True Negative',\n",
        "                                               'False Negative', 'Accuracy(train)', 'Accuracy(test)',\n",
        "                                               'Cross-Validation'])\n",
        "predict"
      ]
    },
    {
      "cell_type": "markdown",
      "id": "1ee5f25f",
      "metadata": {
        "id": "1ee5f25f"
      },
      "source": [
        "# Visualizing model performances"
      ]
    },
    {
      "cell_type": "code",
      "execution_count": null,
      "id": "cae42d83",
      "metadata": {
        "id": "cae42d83",
        "outputId": "0958ab19-510b-441e-dee9-eb8810fa9fb8"
      },
      "outputs": [
        {
          "data": {
            "image/png": "[encoded data removed]",
            "text/plain": [
              "<Figure size 720x360 with 1 Axes>"
            ]
          },
          "metadata": {
            "needs_background": "light"
          },
          "output_type": "display_data"
        }
      ],
      "source": [
        "f, axe = plt.subplots(1,1, figsize=(10,5))\n",
        "\n",
        "predict.sort_values(by=['Cross-Validation'], ascending=False, inplace=True)\n",
        "\n",
        "sns.barplot(x='Cross-Validation', y='Model', data = predict, ax = axe)\n",
        "#axes[0].set(xlabel='Region', ylabel='Charges')\n",
        "axe.set_xlabel('Cross-Validation')\n",
        "axe.set_ylabel('Models')\n",
        "axe.set_xlim(0,1.0)\n",
        "axe.set_xticks(np.arange(0, 1.1, 0.1))\n",
        "plt.show()"
      ]
    },
    {
      "cell_type": "code",
      "execution_count": null,
      "id": "b6d207de",
      "metadata": {
        "id": "b6d207de",
        "outputId": "371b11fc-5c9a-4abc-ab40-4fa0e28ba030"
      },
      "outputs": [
        {
          "data": {
            "image/png": "[encoded data removed]",
            "text/plain": [
              "<Figure size 792x432 with 2 Axes>"
            ]
          },
          "metadata": {
            "needs_background": "light"
          },
          "output_type": "display_data"
        }
      ],
      "source": [
        "f, axes = plt.subplots(2,1, figsize=(11,6))\n",
        "\n",
        "predict.sort_values(by=['Accuracy(train)'], ascending=False, inplace=True)\n",
        "\n",
        "sns.barplot(x='Accuracy(train)', y='Model', data = predict, palette='Blues_d', ax = axes[0])\n",
        "#axes[0].set(xlabel='Region', ylabel='Charges')\n",
        "axes[0].set_xlabel('Accuracy (Train)')\n",
        "axes[0].set_ylabel('Model')\n",
        "axes[0].set_xlim(0,1.0)\n",
        "axes[0].set_xticks(np.arange(0, 1.1, 0.1))\n",
        "\n",
        "predict.sort_values(by=['Accuracy(test)'], ascending=False, inplace=True)\n",
        "\n",
        "sns.barplot(x='Accuracy(test)', y='Model', data = predict, palette='Reds_d', ax = axes[1])\n",
        "#axes[0].set(xlabel='Region', ylabel='Charges')\n",
        "axes[1].set_xlabel('Accuracy (Test)')\n",
        "axes[1].set_ylabel('Model')\n",
        "axes[1].set_xlim(0,1.0)\n",
        "axes[1].set_xticks(np.arange(0, 1.1, 0.1))\n",
        "\n",
        "plt.show()"
      ]
    },
    {
      "cell_type": "code",
      "execution_count": null,
      "id": "4d40515e",
      "metadata": {
        "id": "4d40515e",
        "outputId": "2e76885e-32ce-455b-88fa-58410094e1e3"
      },
      "outputs": [
        {
          "data": {
            "image/png": "[encoded data removed]",
            "text/plain": [
              "<Figure size 1728x576 with 1 Axes>"
            ]
          },
          "metadata": {
            "needs_background": "light"
          },
          "output_type": "display_data"
        }
      ],
      "source": [
        "predict.sort_values(by=(['Accuracy(test)']), ascending=True, inplace=True)\n",
        "\n",
        "f, axe = plt.subplots(1,1, figsize=(24,8))\n",
        "sns.barplot(x = predict['Model'], y=predict['False Positive'] + predict['False Negative'], ax = axe )\n",
        "axe.set_xlabel('Model', size=20)\n",
        "axe.set_ylabel('False Observations', size=20)\n",
        "\n",
        "plt.show()"
      ]
    },
    {
      "cell_type": "markdown",
      "id": "59f19de4",
      "metadata": {
        "id": "59f19de4"
      },
      "source": [
        "In this project, We have built 7 classification models using Breast cancer Dataset. They are naive bayes, logistic, knn, svm(linear), svm(rbf), decision tree and random forest. Then the performance of the models have been measured and visualized.\n",
        "\n"
      ]
    }
  ],
  "metadata": {
    "kernelspec": {
      "display_name": "Python 3",
      "language": "python",
      "name": "python3"
    },
    "language_info": {
      "codemirror_mode": {
        "name": "ipython",
        "version": 3
      },
      "file_extension": ".py",
      "mimetype": "text/x-python",
      "name": "python",
      "nbconvert_exporter": "python",
      "pygments_lexer": "ipython3",
      "version": "3.8.8"
    },
    "colab": {
      "provenance": [],
      "include_colab_link": true
    }
  },
  "nbformat": 4,
  "nbformat_minor": 5
}